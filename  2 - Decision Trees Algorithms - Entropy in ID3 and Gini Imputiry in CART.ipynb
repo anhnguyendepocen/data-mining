{
 "cells": [
  {
   "cell_type": "markdown",
   "metadata": {},
   "source": [
    "# Decision Trees Alogorithms - Impurity Measures: ID3, CART, and C4.5; Entropy, Gini Index, and Classification Error"
   ]
  },
  {
   "cell_type": "markdown",
   "metadata": {},
   "source": [
    "## Why are decision trees important?"
   ]
  },
  {
   "cell_type": "markdown",
   "metadata": {},
   "source": [
    "### They're easily understood"
   ]
  },
  {
   "cell_type": "markdown",
   "metadata": {},
   "source": [
    "Decision trees are easy to understand and they capture some very fundamental and important concepts in machine learning and expert systems. The process of classification is self-evident and easy to implement."
   ]
  },
  {
   "cell_type": "markdown",
   "metadata": {},
   "source": [
    "### They are computationally efficient"
   ]
  },
  {
   "cell_type": "markdown",
   "metadata": {},
   "source": [
    "Straight-forwardly, they don't require massive amounts of computational power, and this is a huge bonus. If you can use a classification tree, do. The computational complexity is proportional to the size of the dataset, nothing more."
   ]
  },
  {
   "cell_type": "markdown",
   "metadata": {},
   "source": [
    "### They are able to generalize given an appropriate training set"
   ]
  },
  {
   "cell_type": "markdown",
   "metadata": {},
   "source": [
    "If the instances are descrived in terms of features that are well-correlated with the target class, then the model will generalize and be able to classify unobserved instances."
   ]
  },
  {
   "cell_type": "markdown",
   "metadata": {},
   "source": [
    "## Decision Criteria"
   ]
  },
  {
   "cell_type": "markdown",
   "metadata": {},
   "source": [
    "### Splitting Criteria"
   ]
  },
  {
   "cell_type": "markdown",
   "metadata": {},
   "source": [
    "All decision tree algorithms use a criteria for splitting nodes in the tree. Typically trees split in a dichotomous fashion, with two edges/branches splitting from each internal node."
   ]
  },
  {
   "cell_type": "markdown",
   "metadata": {},
   "source": [
    "The measure of *impurity*, known as *information entropy* or *information gain*, is the criteria for splitting the tree at a node. The goal of splitting criteria is to reduce the impurity of a node and maximize the amount of information gained at each node in the process of making a decision. The nodes closest to the root will give the greatest amount of information, and as the process winds down to the leaf nodes, the final little bits of information make the final decision."
   ]
  },
  {
   "cell_type": "markdown",
   "metadata": {},
   "source": [
    "These splitting criteria are measured and defined in terms of the target-class distribution amongst the instances in the dataset."
   ]
  },
  {
   "cell_type": "markdown",
   "metadata": {},
   "source": [
    "Some of the most ubiquitous measures of impurity include:\n",
    "1. Entropy\n",
    "2. Gini Index\n",
    "3. Classification Error\n",
    "4. Information Gain\n",
    "5. Gain Ratio\n",
    "6. Twoing Criteria"
   ]
  },
  {
   "cell_type": "markdown",
   "metadata": {},
   "source": [
    "#### Almost Twins: Entropy versus Gini Index"
   ]
  },
  {
   "cell_type": "markdown",
   "metadata": {},
   "source": [
    "Gini Impurity and Entropy are so similar that they are nearly the same thing, but they do have some distinctions. They come out of different fields of science. They can be used interchangably in many cases, but for a small percentage of use cases it is important to know which to choose.\n",
    "\n",
    "Making this choice comes down to the nature of your data."
   ]
  },
  {
   "cell_type": "markdown",
   "metadata": {},
   "source": [
    "#### Entropy is for attributes that occur in classes\n",
    "\n",
    "It is a measure of impurity. It may seem a little slower to compute up front, but remembering that logarithms allow us to turn multiplication into addition reveals why entropy is such an important concept. Imagine a dataset with 500,000 entries. If we had to multiply the probability of 500,000 instances, each of which is between 0 and 1, we're going to get an absurdly small number with many, many, many zeroes. \n",
    "\n",
    "\n",
    "The general formula for Entropy is given\n",
    "\n",
    "$$Entropy(x) = -\\sum_{i=1}^{n} p_{i}(x)log_{2}{(p_{i}(x))}$$\n",
    "\n",
    "where:\n",
    " - $x$ is an object from the dataset\n",
    " - $p_i$ is the probability of that object (an object of the $i$th class) appearing\n",
    " - $n$ is the number of classes"
   ]
  },
  {
   "cell_type": "markdown",
   "metadata": {},
   "source": [
    "#### Gini Index is for continuous attributes\n",
    "*Aka Gini Coefficient and Gini Ratio*\n",
    "\n",
    "Consider an experiment with $n$ possible output classes. Class $i$ has a probability of occurring equal to $p(i|x)$ where $i = 1,..n$.\n",
    "\n",
    "\n",
    "Take two successive observations and notice that the following is true:\n",
    " - the probability of observing identical outcomes of the same class $i$ is $p^2(i|x)$\n",
    " - the porbability of two identical outcomes independent of their class is $\\sum_{i = 1}^{n}p^2(i|x)$\n",
    " - it follows immediately that the probability of obtaining two *different* outputs is $1 - \\sum_{i = 1}^{n}p^2(i|x)$\n",
    " \n",
    " \n",
    " The Gini impurity is simple the probability of observing two different classes in a row and it is given $$G(x) = 1 - \\sum_{i = 1}^{n}p^2(i|x)$$"
   ]
  },
  {
   "cell_type": "markdown",
   "metadata": {},
   "source": [
    "#### Classification Error\n",
    "\n",
    "$$ClassificationError(x) = 1 - max[p(i|x)]$$"
   ]
  },
  {
   "cell_type": "markdown",
   "metadata": {},
   "source": [
    "#### Information Gain\n",
    "\n",
    "$$InfoGain(\\nabla) = Entropy(parent) - Entropy(child)$$"
   ]
  },
  {
   "cell_type": "markdown",
   "metadata": {},
   "source": [
    "#### Gain Ratio\n",
    "\n",
    "$$RainRatio = \\frac{InfoGain(\\nabla)}{Entropy}$$"
   ]
  },
  {
   "cell_type": "markdown",
   "metadata": {},
   "source": [
    "#### Twoing Criteria\n",
    "\n",
    "The Gini Index may be problematic in handling problems where the domain of the target attribute is relatively wide. In this case you can use a binary criterion called twoing criteria it is defined as:"
   ]
  },
  {
   "cell_type": "markdown",
   "metadata": {},
   "source": [
    "$$Twoing(x)= \\frac{P_L P_R}{4}(\\sum{abs(p(i|x_L) - p(i|x_R))})^2$$"
   ]
  },
  {
   "cell_type": "markdown",
   "metadata": {},
   "source": []
  },
  {
   "cell_type": "markdown",
   "metadata": {},
   "source": []
  },
  {
   "cell_type": "markdown",
   "metadata": {},
   "source": []
  },
  {
   "cell_type": "markdown",
   "metadata": {},
   "source": [
    "### Stopping Criteria"
   ]
  },
  {
   "cell_type": "markdown",
   "metadata": {},
   "source": [
    "The stopping criteria determines when the splitting (aka growing) phase stops. The rules for stopping criteria are as such:\n",
    "\n",
    "1. All instances in the trianing set are of a single class at the current node.\n",
    "2. The tree is at maximum depth.\n",
    "3. The number of cases (not to be confused with instances) in the terminal node is fewer than the minimum number of cases for its parent nodes.\n",
    "4. If the given node were to split then one of its child nodes would be less than the minimum number of cases for child nodes. *(This rule exists to prevent over-fitting.)*\n",
    "5. The best splitting criteria is not greater than a defined threshold."
   ]
  },
  {
   "cell_type": "code",
   "execution_count": 1,
   "metadata": {},
   "outputs": [],
   "source": [
    "import arff"
   ]
  },
  {
   "cell_type": "code",
   "execution_count": 3,
   "metadata": {},
   "outputs": [],
   "source": [
    "# data packages\n",
    "import os, arff, numpy as np, pandas as pd\n",
    "\n",
    "# learning package\n",
    "import sklearn\n",
    "\n",
    "# visualization\n",
    "import matplotlib.pyplot as plt\n",
    "%matplotlib inline\n",
    "from jupyterthemes import jtplot\n",
    "jtplot.style('monokai')"
   ]
  },
  {
   "cell_type": "code",
   "execution_count": 7,
   "metadata": {},
   "outputs": [
    {
     "data": {
      "text/plain": [
       "'/home/torchl/Documents/GitHub/Notebooks/data-science-and-research-skills'"
      ]
     },
     "execution_count": 7,
     "metadata": {},
     "output_type": "execute_result"
    }
   ],
   "source": [
    "os.getcwd()"
   ]
  },
  {
   "cell_type": "code",
   "execution_count": 22,
   "metadata": {},
   "outputs": [],
   "source": [
    "dataset = arff.load(open('/home/torchl/Documents/WekaDatasets/weather.nominal.arff'), 'rb')\n",
    "data = np.asarray(dataset['data'])"
   ]
  },
  {
   "cell_type": "code",
   "execution_count": 27,
   "metadata": {},
   "outputs": [
    {
     "data": {
      "text/plain": [
       "[('outlook', ['sunny', 'overcast', 'rainy']),\n",
       " ('temperature', ['hot', 'mild', 'cool']),\n",
       " ('humidity', ['high', 'normal']),\n",
       " ('windy', ['TRUE', 'FALSE']),\n",
       " ('play', ['yes', 'no'])]"
      ]
     },
     "execution_count": 27,
     "metadata": {},
     "output_type": "execute_result"
    }
   ],
   "source": [
    "dataset['attributes']"
   ]
  },
  {
   "cell_type": "code",
   "execution_count": 30,
   "metadata": {},
   "outputs": [
    {
     "data": {
      "text/plain": [
       "array([[0, 0, 0, 1, 1],\n",
       "       [0, 0, 0, 0, 1],\n",
       "       [1, 0, 0, 1, 0],\n",
       "       [2, 1, 0, 1, 0],\n",
       "       [2, 2, 1, 1, 0],\n",
       "       [2, 2, 1, 0, 1],\n",
       "       [1, 2, 1, 0, 0],\n",
       "       [0, 1, 0, 1, 1],\n",
       "       [0, 2, 1, 1, 0],\n",
       "       [2, 1, 1, 1, 0],\n",
       "       [0, 1, 1, 0, 0],\n",
       "       [1, 1, 0, 0, 0],\n",
       "       [1, 0, 1, 1, 0],\n",
       "       [2, 1, 0, 0, 1]])"
      ]
     },
     "execution_count": 30,
     "metadata": {},
     "output_type": "execute_result"
    }
   ],
   "source": [
    "data"
   ]
  },
  {
   "cell_type": "code",
   "execution_count": 33,
   "metadata": {},
   "outputs": [],
   "source": [
    "col_names = [i[0] for i in dataset['attributes']]"
   ]
  },
  {
   "cell_type": "code",
   "execution_count": 34,
   "metadata": {},
   "outputs": [
    {
     "data": {
      "text/plain": [
       "['outlook', 'temperature', 'humidity', 'windy', 'play']"
      ]
     },
     "execution_count": 34,
     "metadata": {},
     "output_type": "execute_result"
    }
   ],
   "source": [
    "col_names"
   ]
  },
  {
   "cell_type": "code",
   "execution_count": 36,
   "metadata": {},
   "outputs": [],
   "source": [
    "dataset = pd.DataFrame(data)"
   ]
  },
  {
   "cell_type": "code",
   "execution_count": 38,
   "metadata": {},
   "outputs": [],
   "source": [
    "dataset.columns = col_names"
   ]
  },
  {
   "cell_type": "code",
   "execution_count": 75,
   "metadata": {},
   "outputs": [
    {
     "data": {
      "text/html": [
       "<div>\n",
       "<style scoped>\n",
       "    .dataframe tbody tr th:only-of-type {\n",
       "        vertical-align: middle;\n",
       "    }\n",
       "\n",
       "    .dataframe tbody tr th {\n",
       "        vertical-align: top;\n",
       "    }\n",
       "\n",
       "    .dataframe thead th {\n",
       "        text-align: right;\n",
       "    }\n",
       "</style>\n",
       "<table border=\"1\" class=\"dataframe\">\n",
       "  <thead>\n",
       "    <tr style=\"text-align: right;\">\n",
       "      <th></th>\n",
       "      <th>outlook</th>\n",
       "      <th>temperature</th>\n",
       "      <th>humidity</th>\n",
       "      <th>windy</th>\n",
       "      <th>play</th>\n",
       "    </tr>\n",
       "  </thead>\n",
       "  <tbody>\n",
       "    <tr>\n",
       "      <th>0</th>\n",
       "      <td>0</td>\n",
       "      <td>0</td>\n",
       "      <td>0</td>\n",
       "      <td>1</td>\n",
       "      <td>1</td>\n",
       "    </tr>\n",
       "    <tr>\n",
       "      <th>1</th>\n",
       "      <td>0</td>\n",
       "      <td>0</td>\n",
       "      <td>0</td>\n",
       "      <td>0</td>\n",
       "      <td>1</td>\n",
       "    </tr>\n",
       "    <tr>\n",
       "      <th>2</th>\n",
       "      <td>1</td>\n",
       "      <td>0</td>\n",
       "      <td>0</td>\n",
       "      <td>1</td>\n",
       "      <td>0</td>\n",
       "    </tr>\n",
       "    <tr>\n",
       "      <th>3</th>\n",
       "      <td>2</td>\n",
       "      <td>1</td>\n",
       "      <td>0</td>\n",
       "      <td>1</td>\n",
       "      <td>0</td>\n",
       "    </tr>\n",
       "    <tr>\n",
       "      <th>4</th>\n",
       "      <td>2</td>\n",
       "      <td>2</td>\n",
       "      <td>1</td>\n",
       "      <td>1</td>\n",
       "      <td>0</td>\n",
       "    </tr>\n",
       "    <tr>\n",
       "      <th>5</th>\n",
       "      <td>2</td>\n",
       "      <td>2</td>\n",
       "      <td>1</td>\n",
       "      <td>0</td>\n",
       "      <td>1</td>\n",
       "    </tr>\n",
       "    <tr>\n",
       "      <th>6</th>\n",
       "      <td>1</td>\n",
       "      <td>2</td>\n",
       "      <td>1</td>\n",
       "      <td>0</td>\n",
       "      <td>0</td>\n",
       "    </tr>\n",
       "    <tr>\n",
       "      <th>7</th>\n",
       "      <td>0</td>\n",
       "      <td>1</td>\n",
       "      <td>0</td>\n",
       "      <td>1</td>\n",
       "      <td>1</td>\n",
       "    </tr>\n",
       "    <tr>\n",
       "      <th>8</th>\n",
       "      <td>0</td>\n",
       "      <td>2</td>\n",
       "      <td>1</td>\n",
       "      <td>1</td>\n",
       "      <td>0</td>\n",
       "    </tr>\n",
       "    <tr>\n",
       "      <th>9</th>\n",
       "      <td>2</td>\n",
       "      <td>1</td>\n",
       "      <td>1</td>\n",
       "      <td>1</td>\n",
       "      <td>0</td>\n",
       "    </tr>\n",
       "    <tr>\n",
       "      <th>10</th>\n",
       "      <td>0</td>\n",
       "      <td>1</td>\n",
       "      <td>1</td>\n",
       "      <td>0</td>\n",
       "      <td>0</td>\n",
       "    </tr>\n",
       "    <tr>\n",
       "      <th>11</th>\n",
       "      <td>1</td>\n",
       "      <td>1</td>\n",
       "      <td>0</td>\n",
       "      <td>0</td>\n",
       "      <td>0</td>\n",
       "    </tr>\n",
       "    <tr>\n",
       "      <th>12</th>\n",
       "      <td>1</td>\n",
       "      <td>0</td>\n",
       "      <td>1</td>\n",
       "      <td>1</td>\n",
       "      <td>0</td>\n",
       "    </tr>\n",
       "    <tr>\n",
       "      <th>13</th>\n",
       "      <td>2</td>\n",
       "      <td>1</td>\n",
       "      <td>0</td>\n",
       "      <td>0</td>\n",
       "      <td>1</td>\n",
       "    </tr>\n",
       "  </tbody>\n",
       "</table>\n",
       "</div>"
      ],
      "text/plain": [
       "    outlook  temperature  humidity  windy  play\n",
       "0         0            0         0      1     1\n",
       "1         0            0         0      0     1\n",
       "2         1            0         0      1     0\n",
       "3         2            1         0      1     0\n",
       "4         2            2         1      1     0\n",
       "5         2            2         1      0     1\n",
       "6         1            2         1      0     0\n",
       "7         0            1         0      1     1\n",
       "8         0            2         1      1     0\n",
       "9         2            1         1      1     0\n",
       "10        0            1         1      0     0\n",
       "11        1            1         0      0     0\n",
       "12        1            0         1      1     0\n",
       "13        2            1         0      0     1"
      ]
     },
     "execution_count": 75,
     "metadata": {},
     "output_type": "execute_result"
    }
   ],
   "source": [
    "dataset"
   ]
  },
  {
   "cell_type": "code",
   "execution_count": null,
   "metadata": {},
   "outputs": [],
   "source": [
    "target = dataset['play']"
   ]
  },
  {
   "cell_type": "code",
   "execution_count": 82,
   "metadata": {},
   "outputs": [],
   "source": []
  },
  {
   "cell_type": "code",
   "execution_count": null,
   "metadata": {},
   "outputs": [],
   "source": []
  }
 ],
 "metadata": {
  "kernelspec": {
   "display_name": "Python 3",
   "language": "python",
   "name": "python3"
  },
  "language_info": {
   "codemirror_mode": {
    "name": "ipython",
    "version": 3
   },
   "file_extension": ".py",
   "mimetype": "text/x-python",
   "name": "python",
   "nbconvert_exporter": "python",
   "pygments_lexer": "ipython3",
   "version": "3.6.7"
  },
  "toc": {
   "base_numbering": 1,
   "nav_menu": {},
   "number_sections": true,
   "sideBar": true,
   "skip_h1_title": false,
   "title_cell": "Table of Contents",
   "title_sidebar": "Contents",
   "toc_cell": false,
   "toc_position": {},
   "toc_section_display": true,
   "toc_window_display": false
  }
 },
 "nbformat": 4,
 "nbformat_minor": 2
}
