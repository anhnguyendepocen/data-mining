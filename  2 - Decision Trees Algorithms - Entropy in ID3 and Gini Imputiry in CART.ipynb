{
 "cells": [
  {
   "cell_type": "markdown",
   "metadata": {},
   "source": [
    "# Decision Trees Alogorithms and Impurity Measures: ID3, CART, and C4.5; Entropy, Gini Index, and Classification Error"
   ]
  },
  {
   "cell_type": "markdown",
   "metadata": {},
   "source": [
    "Gini Impurity and Entropy are so similar that they are nearly the same thing, but they do have some distinctions. They come out of different fields of science. They can be used interchangably in many cases, but for a small percentage of use cases it is important to know which to choose.\n",
    "\n",
    "Making this choice comes down to the nature of your data.\n",
    "\n",
    "Since neither method results in a more accurate tree, the common consensus is that Gini is best to use since it is computationally less expensive."
   ]
  },
  {
   "cell_type": "markdown",
   "metadata": {},
   "source": [
    "## Gini Impurity is for continuous attributes\n",
    "\n",
    "and is used to minimize misclassification.\n",
    "\n",
    "## Entropy is for attributes that occur in classes\n",
    "\n",
    "and is used for for exploratory analysis.\n",
    "\n",
    "*Entropy is a little slower to compute up front.*\n",
    "\n",
    "## Classification Error is..."
   ]
  },
  {
   "cell_type": "markdown",
   "metadata": {},
   "source": [
    "http://citeseerx.ist.psu.edu/viewdoc/download?doi=10.1.1.685.4929&rep=rep1&type=pdf"
   ]
  },
  {
   "cell_type": "markdown",
   "metadata": {},
   "source": [
    "https://towardsdatascience.com/a-guide-to-decision-trees-for-machine-learning-and-data-science-fe2607241956\n",
    "\n",
    "https://datamining.bus.utk.edu/Documents/Decision-Trees-for-Predictive-Modeling-(Neville).pdf\n",
    "\n",
    "https://bricaud.github.io/personal-blog/entropy-in-decision-trees/\n",
    "\n",
    "https://bambielli.com/til/2017-10-29-gini-impurity/#\n",
    "\n",
    "https://medium.com/deep-math-machine-learning-ai/chapter-4-decision-trees-algorithms-b93975f7a1f1"
   ]
  },
  {
   "cell_type": "markdown",
   "metadata": {},
   "source": [
    "notebook:\n",
    "\n",
    "https://github.com/rasbt/python-machine-learning-book/blob/master/faq/decision-tree-binary.md"
   ]
  },
  {
   "cell_type": "code",
   "execution_count": null,
   "metadata": {},
   "outputs": [],
   "source": []
  }
 ],
 "metadata": {
  "kernelspec": {
   "display_name": "Python 3",
   "language": "python",
   "name": "python3"
  },
  "language_info": {
   "codemirror_mode": {
    "name": "ipython",
    "version": 3
   },
   "file_extension": ".py",
   "mimetype": "text/x-python",
   "name": "python",
   "nbconvert_exporter": "python",
   "pygments_lexer": "ipython3",
   "version": "3.6.7"
  },
  "toc": {
   "base_numbering": 1,
   "nav_menu": {},
   "number_sections": true,
   "sideBar": true,
   "skip_h1_title": false,
   "title_cell": "Table of Contents",
   "title_sidebar": "Contents",
   "toc_cell": false,
   "toc_position": {},
   "toc_section_display": true,
   "toc_window_display": false
  }
 },
 "nbformat": 4,
 "nbformat_minor": 2
}
