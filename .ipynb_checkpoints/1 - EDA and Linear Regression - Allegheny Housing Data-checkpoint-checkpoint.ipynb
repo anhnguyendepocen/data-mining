{
 "cells": [
  {
   "cell_type": "markdown",
   "metadata": {},
   "source": [
    "https://towardsdatascience.com/linear-regression-using-python-b136c91bf0a2"
   ]
  },
  {
   "cell_type": "markdown",
   "metadata": {},
   "source": [
    "https://towardsdatascience.com/linear-regression-on-boston-housing-dataset-f409b7e4a155"
   ]
  },
  {
   "cell_type": "markdown",
   "metadata": {},
   "source": [
    "# EDA and Linear Regression on Allegheny County Housing Data"
   ]
  },
  {
   "cell_type": "markdown",
   "metadata": {},
   "source": [
    "## Import packages"
   ]
  },
  {
   "cell_type": "code",
   "execution_count": 1,
   "metadata": {},
   "outputs": [],
   "source": [
    "# data and math packages\n",
    "import numpy as np\n",
    "import pandas as pd\n",
    "from scipy import stats\n",
    "import math \n",
    "import random\n",
    "import researchpy as rp\n",
    "\n",
    "# plotting\n",
    "import matplotlib.pyplot as plt\n",
    "%matplotlib inline\n",
    "\n",
    "# plot style\n",
    "from jupyterthemes import jtplot\n",
    "jtplot.style('monokai')"
   ]
  },
  {
   "cell_type": "markdown",
   "metadata": {},
   "source": [
    "## Data Prep / Pipeline\n",
    "\n",
    "Developed in the `Statistics in Data Science - A Review` notebook."
   ]
  },
  {
   "cell_type": "code",
   "execution_count": null,
   "metadata": {},
   "outputs": [
    {
     "name": "stderr",
     "output_type": "stream",
     "text": [
      "/home/torchl/.local/lib/python3.6/site-packages/IPython/core/interactiveshell.py:3020: DtypeWarning: Columns (19,20,29,30,31,38,46,57,83) have mixed types. Specify dtype option on import or set low_memory=False.\n",
      "  interactivity=interactivity, compiler=compiler, result=result)\n"
     ]
    }
   ],
   "source": [
    "# read in our data and the key for interpreting some of the values\n",
    "ach_df = pd.read_csv('data/AlleghenyHousing/assessments.csv')\n",
    "\n",
    "# lets convert the ASOFDATE column to datetime\n",
    "ach_df['ASOFDATE'] = pd.to_datetime(ach_df['ASOFDATE'])\n",
    "\n",
    "# filter out majority of unecessary columns\n",
    "keep_cols = [\n",
    "            # parced ID\n",
    "            'PARID',\n",
    "            \n",
    "            # most recent sale information\n",
    "            'SALEDATE',\n",
    "            'SALEPRICE',\n",
    "            'SALECODE',\n",
    "            'SALEDESC',\n",
    "    \n",
    "            # appraisal and market values\n",
    "            'FAIRMARKETLAND',\n",
    "            'FAIRMARKETBUILDING',\n",
    "            'FAIRMARKETTOTAL',\n",
    "            'COUNTYLAND',\n",
    "            'COUNTYBUILDING',\n",
    "            'COUNTYTOTAL',\n",
    "            'LOCALLAND',\n",
    "            'LOCALBUILDING', \n",
    "            'LOCALTOTAL',\n",
    "    \n",
    "            # location information and etc.\n",
    "            'PROPERTYZIP',\n",
    "            'MUNICODE',\n",
    "            'SCHOOLCODE',\n",
    "            'NEIGHCODE',\n",
    "            'OWNERCODE',\n",
    "            'CLASS',\n",
    "            'USECODE',\n",
    "    \n",
    "            # parcel / building features\n",
    "            'LOTAREA',\n",
    "            'STYLE',\n",
    "            'STORIES',\n",
    "            'YEARBLT',\n",
    "            'EXTERIORFINISH',\n",
    "            'ROOF',\n",
    "            'BASMENT',\n",
    "            'TOTALROOMS',\n",
    "            'FULLBATHS',\n",
    "            'HALFBATHS',\n",
    "            'HEATING',\n",
    "            'COOLING',\n",
    "            'FIREPLACES',\n",
    "            'BSMNTGARAGE',\n",
    "            'FINISHEDLIVINGAREA']\n",
    "ach_dfr = ach_df.filter(keep_cols, axis=1)\n",
    "\n",
    "\n",
    "# filter out any outliers in terms of sale price, flter out properties that dont have a building on them\n",
    "ach_dfr = ach_dfr[ach_dfr['FAIRMARKETBUILDING'] > 0]\n",
    "ach_dfr = ach_dfr[ach_dfr['SALEDESC'] == \"VALID SALE\"].append(ach_dfr[ach_dfr['SALEDESC'] == \"OTHER VALID\"])\n",
    "\n",
    "\n",
    "ach_types = pd.DataFrame(ach_dfr.dtypes)\n",
    "ach_types_r = ach_types[ach_types[0] == \"O\"]\n",
    "\n",
    "\n",
    "drop_cols = ['USECODE', 'CLASS', 'OWNERCODE', 'COUNTYLAND',\n",
    "            'COUNTYTOTAL', 'COUNTYBUILDING', 'LOCALLAND', \n",
    "            'LOCALBUILDING', 'LOCALTOTAL']\n",
    "ach_dfr.drop(drop_cols,axis=1, inplace=True)\n",
    "\n",
    "ach_dfr.drop('FIREPLACES',axis=1, inplace=True)\n",
    "\n",
    "ach_dfr = ach_dfr.loc[ach_dfr['FINISHEDLIVINGAREA'] >= 0]\n",
    "\n",
    "ach_dfr['HALFBATHS'] = ach_dfr['HALFBATHS'].fillna(0)\n",
    "\n",
    "ach_dfr = ach_dfr.dropna()\n",
    "\n",
    "ach_dfr = ach_dfr.drop(['PARID', 'SALECODE', 'SALEDESC'], axis=1)\n",
    "\n",
    "ach_dfr = ach_dfr.drop(['FAIRMARKETLAND','FAIRMARKETBUILDING','FAIRMARKETTOTAL'], axis=1)\n",
    "\n",
    "ach_dfr['SALEDATE'] = pd.to_datetime(ach_dfr['SALEDATE'])\n",
    "\n",
    "ach_dfr = ach_dfr.loc[ach_dfr['SALEDATE'] > pd.to_datetime('01-01-2008')]\n",
    "\n",
    "ach_dfr = ach_dfr.reset_index(drop=True)"
   ]
  },
  {
   "cell_type": "code",
   "execution_count": null,
   "metadata": {},
   "outputs": [],
   "source": [
    "ach_dfr['PROPERTYZIP'] = pd.to_numeric(ach_dfr['PROPERTYZIP'], downcast='integer')"
   ]
  },
  {
   "cell_type": "code",
   "execution_count": null,
   "metadata": {},
   "outputs": [],
   "source": [
    "#ach_dfr"
   ]
  },
  {
   "cell_type": "markdown",
   "metadata": {},
   "source": [
    "## Define Parameters"
   ]
  },
  {
   "cell_type": "code",
   "execution_count": null,
   "metadata": {},
   "outputs": [],
   "source": [
    "data = ach_dfr\n",
    "target = ach_dfr['SALEPRICE']\n",
    "feature_names = list(ach_dfr)"
   ]
  },
  {
   "cell_type": "code",
   "execution_count": null,
   "metadata": {},
   "outputs": [],
   "source": [
    "feature_names"
   ]
  },
  {
   "cell_type": "code",
   "execution_count": null,
   "metadata": {},
   "outputs": [],
   "source": [
    "# note that some  of these are meaningless, such as PROPERTYZIP\n",
    "\n",
    "ach_dfr.describe()"
   ]
  },
  {
   "cell_type": "markdown",
   "metadata": {},
   "source": [
    "## Exploratory Data Analysis"
   ]
  },
  {
   "cell_type": "code",
   "execution_count": null,
   "metadata": {
    "scrolled": true
   },
   "outputs": [],
   "source": [
    "ach_dfr['SALEPRICE'].hist(bins=50, figsize=(15,15))"
   ]
  },
  {
   "cell_type": "markdown",
   "metadata": {},
   "source": [
    "### New Value: median value by location"
   ]
  },
  {
   "cell_type": "code",
   "execution_count": null,
   "metadata": {},
   "outputs": [],
   "source": [
    "ach_dfr['PROPERTYZIP'].unique()"
   ]
  },
  {
   "cell_type": "code",
   "execution_count": null,
   "metadata": {},
   "outputs": [],
   "source": [
    "ach_dfr['MUNICODE'].unique()"
   ]
  },
  {
   "cell_type": "code",
   "execution_count": null,
   "metadata": {},
   "outputs": [],
   "source": [
    "ach_dfr['SCHOOLCODE'].unique()"
   ]
  },
  {
   "cell_type": "code",
   "execution_count": null,
   "metadata": {
    "scrolled": true
   },
   "outputs": [],
   "source": [
    "def medianizer(df_col_name, new_col_name):    \n",
    "    # find the median value of homes by location\n",
    "    medPriceBy = []\n",
    "    for v in np.asarray(ach_dfr[df_col_name].unique()):\n",
    "        prices = []\n",
    "        for i in range(len(ach_dfr)):\n",
    "            if ach_dfr.loc[i, df_col_name] == v:\n",
    "                prices += [ach_dfr.loc[i, 'SALEPRICE']]\n",
    "\n",
    "        medPriceBy += [[str(v), np.median(prices)]]\n",
    "        \n",
    "    medPriceBy = np.asarray(medPriceBy)\n",
    "    medPriceBy[:,0] = medPriceBy[:,0].astype(np.int)\n",
    "\n",
    "    print(medPriceBy)\n",
    "    # make new column in our dataframe\n",
    "    ach_dfr[new_col_name] = 0\n",
    "    \n",
    "\n",
    "    # add correct value to each instant in dataframe\n",
    "    def medianity(medians):\n",
    "        medians_ = []\n",
    "        for j in np.asarray(ach_dfr[df_col_name]):\n",
    "            for i in medians:\n",
    "                if ach_dfr.loc[j, df_col_name] == int(i[0]):\n",
    "                    medians_ += [i[1]]\n",
    "                else: \n",
    "                    None\n",
    "        return medians_\n",
    "\n",
    "    try:\n",
    "        ach_dfr[new_col_name] = medianity(medPriceBy)\n",
    "    except: \n",
    "        print('Oh pooh!')"
   ]
  },
  {
   "cell_type": "code",
   "execution_count": null,
   "metadata": {
    "scrolled": true
   },
   "outputs": [],
   "source": [
    "medianizer('PROPERTYZIP', 'MEDIANPRICEBYZIP')\n",
    "medianizer('SCHOOLCODE', 'MEDIANPRICEBYSCHOOL')\n",
    "medianizer('MUNICODE', 'MEDIANPRICEBYMUNI')"
   ]
  },
  {
   "cell_type": "code",
   "execution_count": null,
   "metadata": {},
   "outputs": [],
   "source": [
    "ach_dfr['MEDIANPRICEBYZIP'] = pd.to_numeric(ach_dfr['MEDIANPRICEBYZIP'], downcast='float')\n",
    "ach_dfr['MEDIANPRICEBYSCHOOL'] = pd.to_numeric(ach_dfr['MEDIANPRICEBYSCHOOL'], downcast='float')\n",
    "ach_dfr['MEDIANPRICEBYMUNI'] = pd.to_numeric(ach_dfr['MEDIANPRICEBYMUNI'], downcast='float')"
   ]
  },
  {
   "cell_type": "code",
   "execution_count": null,
   "metadata": {},
   "outputs": [],
   "source": [
    "ach_df__ = ach_dfr.copy()"
   ]
  },
  {
   "cell_type": "code",
   "execution_count": null,
   "metadata": {},
   "outputs": [],
   "source": [
    "ach_df__.hist(bins=30, figsize=(15,15))"
   ]
  },
  {
   "cell_type": "markdown",
   "metadata": {},
   "source": [
    "### Visualize Correlation Matrix"
   ]
  },
  {
   "cell_type": "code",
   "execution_count": null,
   "metadata": {},
   "outputs": [],
   "source": [
    "ach_df__.corr()"
   ]
  },
  {
   "cell_type": "code",
   "execution_count": null,
   "metadata": {},
   "outputs": [],
   "source": [
    "ach_df__ = ach_df__.drop('MEDIANPRICEBYSCHOOL', axis=1)"
   ]
  },
  {
   "cell_type": "code",
   "execution_count": null,
   "metadata": {},
   "outputs": [],
   "source": []
  },
  {
   "cell_type": "code",
   "execution_count": null,
   "metadata": {},
   "outputs": [],
   "source": [
    "import plotly.offline as py\n",
    "import plotly.graph_objs as go\n",
    "py.init_notebook_mode()\n",
    "\n",
    "trace = go.Heatmap(z=np.asarray(ach_df__.corr()),\n",
    "                   x = list(ach_df__),\n",
    "                   y = list(ach_df__), colorscale='Viridis')\n",
    "\n",
    "data=[trace]\n",
    "fig = go.Figure(data=data)\n",
    "\n",
    "fig['layout'].update(width=800,height=800)\n",
    "\n",
    "\n",
    "py.iplot(fig)"
   ]
  },
  {
   "cell_type": "markdown",
   "metadata": {},
   "source": [
    "### Observing Linearity\n",
    "\n",
    "Take the features with high correlation and plot them against `SALEPRICE` and `MEDIANPRICEBY...`."
   ]
  },
  {
   "cell_type": "code",
   "execution_count": null,
   "metadata": {},
   "outputs": [],
   "source": [
    "list(ach_df__)"
   ]
  },
  {
   "cell_type": "code",
   "execution_count": null,
   "metadata": {},
   "outputs": [],
   "source": [
    "plt.figure(figsize=(20,5))\n",
    "\n",
    "features = ['SALEDATE',\n",
    "             'PROPERTYZIP',\n",
    "             'MUNICODE',\n",
    "             'SCHOOLCODE',\n",
    "             'LOTAREA',\n",
    "             'STORIES',\n",
    "             'YEARBLT',\n",
    "             'EXTERIORFINISH',\n",
    "             'ROOF',\n",
    "             'TOTALROOMS',\n",
    "             'FULLBATHS',\n",
    "             'HALFBATHS',\n",
    "             'FINISHEDLIVINGAREA']\n",
    "\n",
    "target = ach_dfr['SALEPRICE']\n",
    "\n",
    "for i, col in enumerate(features[0:4]):\n",
    "    try:\n",
    "        plt.subplot(1, len(features[0:4]) , i+1)\n",
    "        x = ach_dfr[col]\n",
    "        y = target\n",
    "        plt.scatter(x, y, marker='o')\n",
    "        plt.title(col)\n",
    "        plt.xlabel(col)\n",
    "        plt.ylabel('PRICE')\n",
    "    except: None"
   ]
  },
  {
   "cell_type": "code",
   "execution_count": null,
   "metadata": {},
   "outputs": [],
   "source": [
    "plt.figure(figsize=(20,5))\n",
    "for i, col in enumerate(features[4:8]):\n",
    "    try:\n",
    "        plt.subplot(1, len(features[0:4]) , i+1)\n",
    "        x = ach_dfr[col]\n",
    "        y = target\n",
    "        plt.scatter(x, y, marker='o')\n",
    "        plt.title(col)\n",
    "        plt.xlabel(col)\n",
    "        plt.ylabel('PRICE')\n",
    "    except: None\n",
    "        "
   ]
  },
  {
   "cell_type": "code",
   "execution_count": null,
   "metadata": {},
   "outputs": [],
   "source": [
    "plt.figure(figsize=(20,5))\n",
    "for i, col in enumerate(features[8:13]):\n",
    "    try:\n",
    "        plt.subplot(1, len(features[8:13]) , i+1)\n",
    "        x = ach_dfr[col]\n",
    "        y = target\n",
    "        plt.scatter(x, y, marker='o')\n",
    "        plt.title(col)\n",
    "        plt.xlabel(col)\n",
    "        plt.ylabel('PRICE')\n",
    "    except: None"
   ]
  },
  {
   "cell_type": "code",
   "execution_count": null,
   "metadata": {},
   "outputs": [],
   "source": [
    "ach_dfr['SALEPRICE'].dtypes()"
   ]
  },
  {
   "cell_type": "markdown",
   "metadata": {},
   "source": [
    "### Linear Regression\n",
    "\n",
    "Obviously there aren't any visually satisfying shapes in the data that compel us to think Linear Regression is a good model. Lets more forward anyway."
   ]
  },
  {
   "cell_type": "code",
   "execution_count": null,
   "metadata": {},
   "outputs": [],
   "source": [
    "X = pd.DataFrame(ach_df__[[  'PROPERTYZIP',\n",
    "                             'MUNICODE',\n",
    "                             'SCHOOLCODE',\n",
    "                             'LOTAREA',\n",
    "                             'STORIES',\n",
    "                             'YEARBLT',\n",
    "                             'EXTERIORFINISH',\n",
    "                             'ROOF',\n",
    "                             'TOTALROOMS',\n",
    "                             'FULLBATHS',\n",
    "                             'HALFBATHS',\n",
    "                             'FINISHEDLIVINGAREA']])\n",
    "Y = ach_df__['SALEPRICE']"
   ]
  },
  {
   "cell_type": "code",
   "execution_count": null,
   "metadata": {},
   "outputs": [],
   "source": [
    "from sklearn.model_selection import train_test_split\n",
    "\n",
    "X_train, X_test, Y_train, Y_test = train_test_split(X, Y, test_size = 0.2, random_state=5)\n",
    "print(X_train.shape)\n",
    "print(X_test.shape)\n",
    "print(Y_train.shape)\n",
    "print(Y_test.shape)"
   ]
  },
  {
   "cell_type": "code",
   "execution_count": null,
   "metadata": {},
   "outputs": [],
   "source": [
    "from sklearn.linear_model import LinearRegression\n",
    "from sklearn.metrics import mean_squared_error, r2_score\n",
    "\n",
    "lin_model = LinearRegression()\n",
    "lin_model.fit(X_train, Y_train)"
   ]
  },
  {
   "cell_type": "code",
   "execution_count": null,
   "metadata": {},
   "outputs": [],
   "source": [
    "import sklearn as sk\n",
    "\n",
    "y_train_predict = lin_model.predict(X_train)\n",
    "rmse = (np.sqrt(mean_squared_error(Y_train, y_train_predict)))\n",
    "r2 = r2_score(Y_train, y_train_predict)\n",
    "\n",
    "print(\"The model performance for training set\")\n",
    "print(\"--------------------------------------\")\n",
    "print('RMSE is {}'.format(rmse))\n",
    "print('R2 score is {}'.format(r2))\n",
    "print(\"\\n\")\n",
    "\n",
    "# model evaluation for testing set\n",
    "y_test_predict = lin_model.predict(X_test)\n",
    "rmse = (np.sqrt(mean_squared_error(Y_test, y_test_predict)))\n",
    "r2 = r2_score(Y_test, y_test_predict)\n",
    "\n",
    "print(\"The model performance for testing set\")\n",
    "print(\"--------------------------------------\")\n",
    "print('RMSE is {}'.format(rmse))\n",
    "print('R2 score is {}'.format(r2))"
   ]
  },
  {
   "cell_type": "code",
   "execution_count": null,
   "metadata": {},
   "outputs": [],
   "source": []
  },
  {
   "cell_type": "code",
   "execution_count": null,
   "metadata": {},
   "outputs": [],
   "source": []
  }
 ],
 "metadata": {
  "kernelspec": {
   "display_name": "Python 3",
   "language": "python",
   "name": "python3"
  },
  "language_info": {
   "codemirror_mode": {
    "name": "ipython",
    "version": 3
   },
   "file_extension": ".py",
   "mimetype": "text/x-python",
   "name": "python",
   "nbconvert_exporter": "python",
   "pygments_lexer": "ipython3",
   "version": "3.6.7"
  },
  "toc": {
   "base_numbering": 1,
   "nav_menu": {},
   "number_sections": true,
   "sideBar": true,
   "skip_h1_title": false,
   "title_cell": "Table of Contents",
   "title_sidebar": "Contents",
   "toc_cell": false,
   "toc_position": {},
   "toc_section_display": true,
   "toc_window_display": true
  }
 },
 "nbformat": 4,
 "nbformat_minor": 2
}
