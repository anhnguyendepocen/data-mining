{
 "cells": [
  {
   "cell_type": "markdown",
   "metadata": {
    "toc": true
   },
   "source": [
    "<h1>Table of Contents<span class=\"tocSkip\"></span></h1>\n",
    "<div class=\"toc\"><ul class=\"toc-item\"><li><span><a href=\"#Primitive-linear-separator\" data-toc-modified-id=\"Primitive-linear-separator-1\"><span class=\"toc-item-num\">1&nbsp;&nbsp;</span>Primitive linear separator</a></span></li><li><span><a href=\"#Optimizing-the-linear-separator\" data-toc-modified-id=\"Optimizing-the-linear-separator-2\"><span class=\"toc-item-num\">2&nbsp;&nbsp;</span>Optimizing the linear separator</a></span></li></ul></div>"
   ]
  },
  {
   "cell_type": "code",
   "execution_count": 6,
   "metadata": {
    "ExecuteTime": {
     "end_time": "2019-03-01T02:24:39.604918Z",
     "start_time": "2019-03-01T02:24:39.589960Z"
    }
   },
   "outputs": [],
   "source": [
    "import numpy as np\n",
    "import matplotlib.pyplot as plt\n",
    "%matplotlib inline"
   ]
  },
  {
   "cell_type": "markdown",
   "metadata": {},
   "source": [
    "## Primitive linear separator\n",
    "\n",
    "This primitive linear separator is based on the centroids of each cluster."
   ]
  },
  {
   "cell_type": "code",
   "execution_count": 7,
   "metadata": {
    "ExecuteTime": {
     "end_time": "2019-03-01T02:24:40.236376Z",
     "start_time": "2019-03-01T02:24:40.231393Z"
    },
    "scrolled": true
   },
   "outputs": [],
   "source": [
    "#help(np.random.multivariate_normal)"
   ]
  },
  {
   "cell_type": "code",
   "execution_count": 8,
   "metadata": {
    "ExecuteTime": {
     "end_time": "2019-03-01T02:24:40.525456Z",
     "start_time": "2019-03-01T02:24:40.519472Z"
    }
   },
   "outputs": [],
   "source": [
    "# produce instances in each cluster\n",
    "cluster1 = np.random.multivariate_normal(mean=[1,1], cov=[[4,0.5],[0.5,1]], size=(1,50))[0]\n",
    "cluster2 = np.random.multivariate_normal(mean=[5,6], cov=[[3.5,0.75],[0.75,1.5]], size=(1,50))[0]"
   ]
  },
  {
   "cell_type": "code",
   "execution_count": null,
   "metadata": {},
   "outputs": [],
   "source": [
    "# synthetic features\n",
    "X = np.dstack([np.append(cluster1[:,0], cluster2[:,0]),\n",
    "                np.append(cluster1[:,1], cluster2[:,1])])[0]\n",
    "\n",
    "# synthetic targets/classes\n",
    "Y = np.append(np.zeros(len(cluster1[:,0])), np.ones(len(cluster2[:,1])))"
   ]
  },
  {
   "cell_type": "code",
   "execution_count": 9,
   "metadata": {
    "ExecuteTime": {
     "end_time": "2019-03-01T02:24:40.817336Z",
     "start_time": "2019-03-01T02:24:40.811388Z"
    }
   },
   "outputs": [],
   "source": [
    "# calculate the centroid of each cluster\n",
    "centroids = np.asarray([ [np.mean(cluster1[:,0]), np.mean(cluster1[:,1])],\n",
    "                         [np.mean(cluster2[:,0]), np.mean(cluster2[:,1])] ])"
   ]
  },
  {
   "cell_type": "code",
   "execution_count": 10,
   "metadata": {
    "ExecuteTime": {
     "end_time": "2019-03-01T02:24:41.409857Z",
     "start_time": "2019-03-01T02:24:41.257245Z"
    }
   },
   "outputs": [
    {
     "data": {
      "text/plain": [
       "<matplotlib.legend.Legend at 0x15fca09fb00>"
      ]
     },
     "execution_count": 10,
     "metadata": {},
     "output_type": "execute_result"
    },
    {
     "data": {
      "image/png": "[encoded data removed]",
      "text/plain": [
       "<Figure size 432x288 with 1 Axes>"
      ]
     },
     "metadata": {},
     "output_type": "display_data"
    }
   ],
   "source": [
    "fig, ax = plt.subplots()\n",
    "\n",
    "# Plot the two clusters\n",
    "ax.scatter(cluster1[:,0], cluster1[:,1], c='b')\n",
    "ax.scatter(cluster2[:,0], cluster2[:,1], c='y')\n",
    "\n",
    "# Plot the centroid of each cluster\n",
    "ax.scatter(centroids[:,0], centroids[:,1], c='r', marker='v', s=150, label=\"centroids\")\n",
    "\n",
    "# Line connecting the centroids and midpoint on the line\n",
    "ax.scatter(np.mean(centroids[:,0]), np.mean(centroids[:,1]), c='r', marker='+', s=250, label=\"midpoint between centroids\")\n",
    "ax.plot(centroids[:,0], centroids[:,1], c='r', label='line connecting centroids')\n",
    "\n",
    "# line orthogonal (perpendicular) to centroid-connecting line\n",
    "ax.plot(centroids[::-1,0], centroids[:,1], c='g', label='orthogonal to line connecting centroids')\n",
    "\n",
    "# optimize the dividing line\n",
    "x = np.linspace(-4, 8, 100)\n",
    "y = -0.8*(x-np.mean(centroids[:,0])) + np.mean(centroids[:,1])\n",
    "ax.plot(x, y, c='purple', label='orthogonal to line connecting centroids')\n",
    "\n",
    "# show the plot legend\n",
    "ax.legend()"
   ]
  },
  {
   "cell_type": "code",
   "execution_count": null,
   "metadata": {},
   "outputs": [],
   "source": []
  }
 ],
 "metadata": {
  "kernelspec": {
   "display_name": "Python 3",
   "language": "python",
   "name": "python3"
  },
  "language_info": {
   "codemirror_mode": {
    "name": "ipython",
    "version": 3
   },
   "file_extension": ".py",
   "mimetype": "text/x-python",
   "name": "python",
   "nbconvert_exporter": "python",
   "pygments_lexer": "ipython3",
   "version": "3.6.5"
  },
  "toc": {
   "base_numbering": 1,
   "nav_menu": {},
   "number_sections": true,
   "sideBar": true,
   "skip_h1_title": false,
   "title_cell": "Table of Contents",
   "title_sidebar": "Contents",
   "toc_cell": true,
   "toc_position": {},
   "toc_section_display": true,
   "toc_window_display": false
  }
 },
 "nbformat": 4,
 "nbformat_minor": 2
}
