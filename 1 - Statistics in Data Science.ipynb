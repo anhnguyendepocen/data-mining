{
 "cells": [
  {
   "cell_type": "markdown",
   "metadata": {
    "toc": true
   },
   "source": [
    "<h1>Table of Contents<span class=\"tocSkip\"></span></h1>\n",
    "<div class=\"toc\"><ul class=\"toc-item\"><li><span><a href=\"#Statistics-in-Data-Science,-A-Review\" data-toc-modified-id=\"Statistics-in-Data-Science,-A-Review-1\"><span class=\"toc-item-num\">1&nbsp;&nbsp;</span>Statistics in Data Science, A Review</a></span><ul class=\"toc-item\"><li><span><a href=\"#Statistics-in-Python\" data-toc-modified-id=\"Statistics-in-Python-1.1\"><span class=\"toc-item-num\">1.1&nbsp;&nbsp;</span>Statistics in Python</a></span><ul class=\"toc-item\"><li><span><a href=\"#Statistics-Packages-for-Python\" data-toc-modified-id=\"Statistics-Packages-for-Python-1.1.1\"><span class=\"toc-item-num\">1.1.1&nbsp;&nbsp;</span>Statistics Packages for Python</a></span><ul class=\"toc-item\"><li><span><a href=\"#Importing-the-packages\" data-toc-modified-id=\"Importing-the-packages-1.1.1.1\"><span class=\"toc-item-num\">1.1.1.1&nbsp;&nbsp;</span>Importing the packages</a></span></li><li><span><a href=\"#Testing-the-packages\" data-toc-modified-id=\"Testing-the-packages-1.1.1.2\"><span class=\"toc-item-num\">1.1.1.2&nbsp;&nbsp;</span>Testing the packages</a></span></li></ul></li></ul></li><li><span><a href=\"#Types-of-Statistics:-Descriptive-&amp;-Inferential\" data-toc-modified-id=\"Types-of-Statistics:-Descriptive-&amp;-Inferential-1.2\"><span class=\"toc-item-num\">1.2&nbsp;&nbsp;</span>Types of Statistics: Descriptive &amp; Inferential</a></span><ul class=\"toc-item\"><li><span><a href=\"#Descriptive-Statistics\" data-toc-modified-id=\"Descriptive-Statistics-1.2.1\"><span class=\"toc-item-num\">1.2.1&nbsp;&nbsp;</span>Descriptive Statistics</a></span></li><li><span><a href=\"#Inferential-Statistics\" data-toc-modified-id=\"Inferential-Statistics-1.2.2\"><span class=\"toc-item-num\">1.2.2&nbsp;&nbsp;</span>Inferential Statistics</a></span><ul class=\"toc-item\"><li><span><a href=\"#A-Closer-look-at-Statistical-Inference\" data-toc-modified-id=\"A-Closer-look-at-Statistical-Inference-1.2.2.1\"><span class=\"toc-item-num\">1.2.2.1&nbsp;&nbsp;</span>A Closer look at Statistical Inference</a></span></li></ul></li><li><span><a href=\"#Types-of-Data\" data-toc-modified-id=\"Types-of-Data-1.2.3\"><span class=\"toc-item-num\">1.2.3&nbsp;&nbsp;</span>Types of Data</a></span></li><li><span><a href=\"#Graphing-and-Visualizing-Data:\" data-toc-modified-id=\"Graphing-and-Visualizing-Data:-1.2.4\"><span class=\"toc-item-num\">1.2.4&nbsp;&nbsp;</span>Graphing and Visualizing Data:</a></span><ul class=\"toc-item\"><li><span><a href=\"#Graphing-Qualitative-Data\" data-toc-modified-id=\"Graphing-Qualitative-Data-1.2.4.1\"><span class=\"toc-item-num\">1.2.4.1&nbsp;&nbsp;</span>Graphing Qualitative Data</a></span><ul class=\"toc-item\"><li><span><a href=\"#Cleaning-up-the-data\" data-toc-modified-id=\"Cleaning-up-the-data-1.2.4.1.1\"><span class=\"toc-item-num\">1.2.4.1.1&nbsp;&nbsp;</span>Cleaning up the data</a></span></li></ul></li></ul></li></ul></li></ul></li></ul></div>"
   ]
  },
  {
   "cell_type": "markdown",
   "metadata": {},
   "source": [
    "# Statistics in Data Science, A Review"
   ]
  },
  {
   "cell_type": "markdown",
   "metadata": {},
   "source": [
    "__Purpose:__ The purpose of this sction is to perform a brief but comprehensive review of the field of Statistics as applied in Data Science. We will cover the most important introductory topics of Statistics starting with the type of statistics, graphing and summarizing data, comparing sample vs. population, and concepts such as Central Limit Theorem, estimators, Law of Large Numbers, and then end with confidence intervals and hypothesis testing. \n",
    "\n",
    "__At the end of this section we will have reviewed how to do the following with Python:__\n",
    "> 1. Understand and define Statistics as well as differentiate between Decriptive and Inferential Statistics.\n",
    "> 2. Graph and summarize data using measures of Central Tendency and Variation \n",
    "> 3. Understand the characteristics of some common distributions such as Normal, Binomial, Uniform, and Exponential \n",
    "> 4. Work with bi-variate data and calculate summary statistics such as Correlation and Causation \n",
    "> 5. Understand the differences between working with samples and populations \n",
    "> 6. Define the Central Limit Theoreom and Law of Large Numbers \n",
    "> 7. Perform Hypothesis Testing \n",
    "> 8. Calculate Confidence Intervals "
   ]
  },
  {
   "cell_type": "markdown",
   "metadata": {},
   "source": [
    "## Statistics in Python"
   ]
  },
  {
   "cell_type": "markdown",
   "metadata": {},
   "source": [
    "__Overview:__ \n",
    "- Python has a wide range of useful functions to perform Statistical routines. These functions are found in the following two Modules: \n",
    "> 1. __[`scipy.stats`](https://docs.scipy.org/doc/scipy-0.18.1/reference/stats.html):__ The `stats` module in the SciPy Package offers many Statistical functions such as mean, zscore, correlation as well as other sub-modules for Continuous Distributions, Multivariate Distributions, and Discrete Distributions\n",
    "> 2. __[`numpy`](https://docs.scipy.org/doc/numpy-1.14.0/reference/routines.statistics.html):__ The `numpy` package itself offers many Statistical Functions such as Order Statistics, Averages and Variances, Correlating, and Histograms\n",
    "\n",
    "__Helpful Points:__\n",
    "1. It is not necessary to access a sub-package within the `numpy` package like we did with `numpy.linalg`. Instead, we can simply execute the function directly from NumPy: `np.func_name`\n",
    "\n",
    "__Practice:__ Import the Statistics Modules in Python "
   ]
  },
  {
   "cell_type": "markdown",
   "metadata": {},
   "source": [
    "### Statistics Packages for Python"
   ]
  },
  {
   "cell_type": "markdown",
   "metadata": {},
   "source": [
    "#### Importing the packages"
   ]
  },
  {
   "cell_type": "code",
   "execution_count": 1,
   "metadata": {},
   "outputs": [],
   "source": [
    "import numpy as np\n",
    "import pandas as pd\n",
    "from scipy import stats\n",
    "import seaborn as sns\n",
    "import math \n",
    "import random\n",
    "import matplotlib.pyplot as plt\n",
    "%matplotlib inline"
   ]
  },
  {
   "cell_type": "code",
   "execution_count": 2,
   "metadata": {},
   "outputs": [
    {
     "name": "stdout",
     "output_type": "stream",
     "text": [
      "Variable   Type      Data/Info\n",
      "------------------------------\n",
      "autopep8   module    <module 'autopep8' from '<...>e-packages\\\\autopep8.py'>\n",
      "json       module    <module 'json' from 'c:\\\\<...>\\lib\\\\json\\\\__init__.py'>\n",
      "math       module    <module 'math' (built-in)>\n",
      "np         module    <module 'numpy' from 'c:\\<...>ges\\\\numpy\\\\__init__.py'>\n",
      "pd         module    <module 'pandas' from 'c:<...>es\\\\pandas\\\\__init__.py'>\n",
      "plt        module    <module 'matplotlib.pyplo<...>\\\\matplotlib\\\\pyplot.py'>\n",
      "random     module    <module 'random' from 'c:<...>ython37\\\\lib\\\\random.py'>\n",
      "sns        module    <module 'seaborn' from 'c<...>s\\\\seaborn\\\\__init__.py'>\n",
      "stats      module    <module 'scipy.stats' fro<...>ipy\\\\stats\\\\__init__.py'>\n"
     ]
    }
   ],
   "source": [
    "%whos"
   ]
  },
  {
   "cell_type": "markdown",
   "metadata": {},
   "source": [
    "#### Testing the packages"
   ]
  },
  {
   "cell_type": "code",
   "execution_count": 3,
   "metadata": {},
   "outputs": [
    {
     "data": {
      "text/plain": [
       "DescribeResult(nobs=5, minmax=(1, 5), mean=3.0, variance=2.5, skewness=0.0, kurtosis=-1.3)"
      ]
     },
     "execution_count": 3,
     "metadata": {},
     "output_type": "execute_result"
    }
   ],
   "source": [
    "stats.describe([1,2,3,4,5]) # scipy stats sub-package"
   ]
  },
  {
   "cell_type": "code",
   "execution_count": 5,
   "metadata": {},
   "outputs": [
    {
     "data": {
      "text/plain": [
       "3.0"
      ]
     },
     "execution_count": 5,
     "metadata": {},
     "output_type": "execute_result"
    }
   ],
   "source": [
    "stats.describe([1,2,3,4,5]).mean # checking just the mean with scipy stats"
   ]
  },
  {
   "cell_type": "code",
   "execution_count": 4,
   "metadata": {},
   "outputs": [
    {
     "data": {
      "text/plain": [
       "3.0"
      ]
     },
     "execution_count": 4,
     "metadata": {},
     "output_type": "execute_result"
    }
   ],
   "source": [
    "np.mean([1,2,3,4,5]) # using numpy package"
   ]
  },
  {
   "cell_type": "markdown",
   "metadata": {},
   "source": [
    "## Types of Statistics: Descriptive & Inferential"
   ]
  },
  {
   "cell_type": "markdown",
   "metadata": {},
   "source": [
    "### Descriptive Statistics\n",
    "Descriptive Statistics provides a summary of a set of data and its properties. It is important to understand that descriptive statistics simply collects and records metrics, nothing more. "
   ]
  },
  {
   "cell_type": "markdown",
   "metadata": {},
   "source": [
    "### Inferential Statistics\n",
    "\n",
    "The purpose on infrential statistics, as te name indicates, is to use data from a sa mple of a population in order to make inferences about the population itself."
   ]
  },
  {
   "cell_type": "markdown",
   "metadata": {},
   "source": [
    "#### A Closer look at Statistical Inference\n",
    "\n",
    "The world we live in is a complex, random, and uncertain process composed of many other processes. It is also a massive data-generating machine.\n",
    "\n",
    "Data represent traces of those real-world processes, and exactly which traces we gather are decided by our data collection or sampling method.\n",
    "\n",
    "We as scientists take interest in processes. An important step in our work is separating our process of interest from our data collection method. After separating the process from the data collection, we can see clearly that there are two sources of randomness and uncertainty. In particular, these are the uncertainty and randomness of the process itself, and the uncertainty of our collection methods.\n",
    "\n",
    "Part of the implication of this is that you can't just go around collecting data then immediately understand the processes of the world.\n",
    "\n",
    "In order to begin gaining this understanding you need to simplify those captured traces into something more comprehensible, to something that somehow captures it all in a much more concise way, and that something could be mathematical models or functions of the data, known as statistical estimators.\n",
    "\n",
    "More precisely, statistical inference is the discipline that concerns itself with the development of procedures, methods, and theorems that al‐ low us to extract meaning and information from data that has been generated by stochastic (random) processes."
   ]
  },
  {
   "cell_type": "markdown",
   "metadata": {},
   "source": [
    "### Types of Data\n",
    "\n",
    "__Overview:__ \n",
    "- In general, we can distinguish between two types of data:\n",
    "> 1. __[Qualitative Data](https://en.wikipedia.org/wiki/Qualitative_property):__ Qualitative Data contains discrete categories known as levels or categories. Qualitative Data can be further classified into four levels as described below:\n",
    "> 2. __[Quantitative Data](https://en.wikipedia.org/wiki/Quantitative_research):__ Quantitative Data is also known as Numerical Data because it contains numbers as counts or measurements "
   ]
  },
  {
   "cell_type": "markdown",
   "metadata": {},
   "source": [
    "### Graphing and Visualizing Data:"
   ]
  },
  {
   "cell_type": "markdown",
   "metadata": {},
   "source": [
    "__Overview:__ \n",
    "- Depending on the type of data there exists different types of graphs that we can use to explore the properties of the data \n",
    "> 1. __Qualitative Data:__ Qualitative Data can be summarized using the following methods:\n",
    ">> a. Frequency Table <br>\n",
    ">> b. Pie Charts <br>\n",
    ">> c. Bar Charts \n",
    "> 2. __Quantitative Data:__ Quantitative Data can be summarized using the following methods: \n",
    ">> a. Histograms <br>\n",
    ">> b. Scatter Plots <br>\n",
    ">> c. Line Graph \n",
    "\n",
    "__Helpful Points:__\n",
    "1. There is lots of debate and best practices shared regarding the type of graph that should be chosen. Feel free to read about this online, but [here](https://blog.hubspot.com/marketing/types-of-graphs-for-data-visualization) is one such resource. We'll cover this in more depth later when we specifically cover Visualization\n",
    "\n",
    "__Practice:__ Examples of Graphing Data in Python "
   ]
  },
  {
   "cell_type": "code",
   "execution_count": 6,
   "metadata": {},
   "outputs": [],
   "source": [
    "import pandas as pd\n",
    "import numpy as np\n",
    "from scipy import stats"
   ]
  },
  {
   "cell_type": "markdown",
   "metadata": {},
   "source": [
    "My hometown is Pittsburgh, PA which is located in Allegheny county. Let's play with an Allegheny County housing dataset!"
   ]
  },
  {
   "cell_type": "code",
   "execution_count": 10,
   "metadata": {},
   "outputs": [
    {
     "name": "stderr",
     "output_type": "stream",
     "text": [
      "c:\\program files\\python37\\lib\\site-packages\\IPython\\core\\interactiveshell.py:2785: DtypeWarning: Columns (19,20,29,30,31,38,46,57,83) have mixed types. Specify dtype option on import or set low_memory=False.\n",
      "  interactivity=interactivity, compiler=compiler, result=result)\n"
     ]
    }
   ],
   "source": [
    "# read in our data and the key for interpreting some of the values\n",
    "\n",
    "ach_df = pd.read_csv('data/AlleghenyHousing/assessments.csv')"
   ]
  },
  {
   "cell_type": "code",
   "execution_count": 13,
   "metadata": {},
   "outputs": [],
   "source": [
    "# reading this will return a UnicodeError unless we tell it how to decode the string values\n",
    "\n",
    "ach_key_df = pd.read_csv('data/AlleghenyHousing/assessment_dictionary.csv', encoding = \"ISO-8859-1\")"
   ]
  },
  {
   "cell_type": "code",
   "execution_count": 15,
   "metadata": {},
   "outputs": [],
   "source": [
    "#ach_key_df"
   ]
  },
  {
   "cell_type": "markdown",
   "metadata": {},
   "source": [
    "We've gotten some very useful feedback. There are some mixed datatypes in some of our columns. It's probably a good guess that there are missing datapoints and therefore a mixture of numerical data and NaN values. We'll find out!"
   ]
  },
  {
   "cell_type": "code",
   "execution_count": 9,
   "metadata": {},
   "outputs": [
    {
     "data": {
      "text/html": [
       "<div>\n",
       "<style scoped>\n",
       "    .dataframe tbody tr th:only-of-type {\n",
       "        vertical-align: middle;\n",
       "    }\n",
       "\n",
       "    .dataframe tbody tr th {\n",
       "        vertical-align: top;\n",
       "    }\n",
       "\n",
       "    .dataframe thead th {\n",
       "        text-align: right;\n",
       "    }\n",
       "</style>\n",
       "<table border=\"1\" class=\"dataframe\">\n",
       "  <thead>\n",
       "    <tr style=\"text-align: right;\">\n",
       "      <th></th>\n",
       "      <th>PARID</th>\n",
       "      <th>PROPERTYHOUSENUM</th>\n",
       "      <th>PROPERTYFRACTION</th>\n",
       "      <th>PROPERTYADDRESS</th>\n",
       "      <th>PROPERTYCITY</th>\n",
       "      <th>PROPERTYSTATE</th>\n",
       "      <th>PROPERTYUNIT</th>\n",
       "      <th>PROPERTYZIP</th>\n",
       "      <th>MUNICODE</th>\n",
       "      <th>MUNIDESC</th>\n",
       "      <th>...</th>\n",
       "      <th>HALFBATHS</th>\n",
       "      <th>HEATINGCOOLING</th>\n",
       "      <th>HEATINGCOOLINGDESC</th>\n",
       "      <th>FIREPLACES</th>\n",
       "      <th>BSMTGARAGE</th>\n",
       "      <th>FINISHEDLIVINGAREA</th>\n",
       "      <th>CARDNUMBER</th>\n",
       "      <th>ALT_ID</th>\n",
       "      <th>TAXYEAR</th>\n",
       "      <th>ASOFDATE</th>\n",
       "    </tr>\n",
       "  </thead>\n",
       "  <tbody>\n",
       "    <tr>\n",
       "      <th>0</th>\n",
       "      <td>0001G00224060300</td>\n",
       "      <td>151.0</td>\n",
       "      <td></td>\n",
       "      <td>FORT PITT BLVD</td>\n",
       "      <td>PITTSBURGH</td>\n",
       "      <td>PA</td>\n",
       "      <td>UNIT 603</td>\n",
       "      <td>15222.0</td>\n",
       "      <td>101</td>\n",
       "      <td>1st Ward  - PITTSBURGH</td>\n",
       "      <td>...</td>\n",
       "      <td>0.0</td>\n",
       "      <td>B</td>\n",
       "      <td>Central Heat with AC</td>\n",
       "      <td>NaN</td>\n",
       "      <td>NaN</td>\n",
       "      <td>1761.0</td>\n",
       "      <td>1.0</td>\n",
       "      <td>NaN</td>\n",
       "      <td>2018</td>\n",
       "      <td>01-SEP-18</td>\n",
       "    </tr>\n",
       "    <tr>\n",
       "      <th>1</th>\n",
       "      <td>0001G00224060400</td>\n",
       "      <td>151.0</td>\n",
       "      <td></td>\n",
       "      <td>FORT PITT BLVD</td>\n",
       "      <td>PITTSBURGH</td>\n",
       "      <td>PA</td>\n",
       "      <td>UNIT 604</td>\n",
       "      <td>15222.0</td>\n",
       "      <td>101</td>\n",
       "      <td>1st Ward  - PITTSBURGH</td>\n",
       "      <td>...</td>\n",
       "      <td>0.0</td>\n",
       "      <td>B</td>\n",
       "      <td>Central Heat with AC</td>\n",
       "      <td>NaN</td>\n",
       "      <td>NaN</td>\n",
       "      <td>1275.0</td>\n",
       "      <td>1.0</td>\n",
       "      <td>NaN</td>\n",
       "      <td>2018</td>\n",
       "      <td>01-SEP-18</td>\n",
       "    </tr>\n",
       "    <tr>\n",
       "      <th>2</th>\n",
       "      <td>0001G00224060500</td>\n",
       "      <td>151.0</td>\n",
       "      <td></td>\n",
       "      <td>FORT PITT BLVD</td>\n",
       "      <td>PITTSBURGH</td>\n",
       "      <td>PA</td>\n",
       "      <td>UNIT 605</td>\n",
       "      <td>15222.0</td>\n",
       "      <td>101</td>\n",
       "      <td>1st Ward  - PITTSBURGH</td>\n",
       "      <td>...</td>\n",
       "      <td>1.0</td>\n",
       "      <td>B</td>\n",
       "      <td>Central Heat with AC</td>\n",
       "      <td>NaN</td>\n",
       "      <td>NaN</td>\n",
       "      <td>888.0</td>\n",
       "      <td>1.0</td>\n",
       "      <td>NaN</td>\n",
       "      <td>2018</td>\n",
       "      <td>01-SEP-18</td>\n",
       "    </tr>\n",
       "    <tr>\n",
       "      <th>3</th>\n",
       "      <td>0002M00222000000</td>\n",
       "      <td>40.0</td>\n",
       "      <td></td>\n",
       "      <td>VAN BRAAM ST</td>\n",
       "      <td>PITTSBURGH</td>\n",
       "      <td>PA</td>\n",
       "      <td></td>\n",
       "      <td>15219.0</td>\n",
       "      <td>101</td>\n",
       "      <td>1st Ward  - PITTSBURGH</td>\n",
       "      <td>...</td>\n",
       "      <td>0.0</td>\n",
       "      <td>2</td>\n",
       "      <td>Central Heat</td>\n",
       "      <td>0.0</td>\n",
       "      <td>0.0</td>\n",
       "      <td>1200.0</td>\n",
       "      <td>1.0</td>\n",
       "      <td>NaN</td>\n",
       "      <td>2018</td>\n",
       "      <td>01-SEP-18</td>\n",
       "    </tr>\n",
       "    <tr>\n",
       "      <th>4</th>\n",
       "      <td>0002M00223000000</td>\n",
       "      <td>42.0</td>\n",
       "      <td></td>\n",
       "      <td>VAN BRAAM ST</td>\n",
       "      <td>PITTSBURGH</td>\n",
       "      <td>PA</td>\n",
       "      <td></td>\n",
       "      <td>15219.0</td>\n",
       "      <td>101</td>\n",
       "      <td>1st Ward  - PITTSBURGH</td>\n",
       "      <td>...</td>\n",
       "      <td>0.0</td>\n",
       "      <td>2</td>\n",
       "      <td>Central Heat</td>\n",
       "      <td>0.0</td>\n",
       "      <td>0.0</td>\n",
       "      <td>3225.0</td>\n",
       "      <td>1.0</td>\n",
       "      <td>NaN</td>\n",
       "      <td>2018</td>\n",
       "      <td>01-SEP-18</td>\n",
       "    </tr>\n",
       "    <tr>\n",
       "      <th>5</th>\n",
       "      <td>0002M00224000000</td>\n",
       "      <td>1638.0</td>\n",
       "      <td></td>\n",
       "      <td>FORBES AVE</td>\n",
       "      <td>PITTSBURGH</td>\n",
       "      <td>PA</td>\n",
       "      <td></td>\n",
       "      <td>15219.0</td>\n",
       "      <td>101</td>\n",
       "      <td>1st Ward  - PITTSBURGH</td>\n",
       "      <td>...</td>\n",
       "      <td>NaN</td>\n",
       "      <td>NaN</td>\n",
       "      <td>NaN</td>\n",
       "      <td>NaN</td>\n",
       "      <td>NaN</td>\n",
       "      <td>NaN</td>\n",
       "      <td>NaN</td>\n",
       "      <td>NaN</td>\n",
       "      <td>2018</td>\n",
       "      <td>01-SEP-18</td>\n",
       "    </tr>\n",
       "    <tr>\n",
       "      <th>6</th>\n",
       "      <td>0002M00225000000</td>\n",
       "      <td>1632.0</td>\n",
       "      <td></td>\n",
       "      <td>FORBES AVE</td>\n",
       "      <td>PITTSBURGH</td>\n",
       "      <td>PA</td>\n",
       "      <td></td>\n",
       "      <td>15219.0</td>\n",
       "      <td>101</td>\n",
       "      <td>1st Ward  - PITTSBURGH</td>\n",
       "      <td>...</td>\n",
       "      <td>NaN</td>\n",
       "      <td>NaN</td>\n",
       "      <td>NaN</td>\n",
       "      <td>NaN</td>\n",
       "      <td>NaN</td>\n",
       "      <td>NaN</td>\n",
       "      <td>NaN</td>\n",
       "      <td>NaN</td>\n",
       "      <td>2018</td>\n",
       "      <td>01-SEP-18</td>\n",
       "    </tr>\n",
       "    <tr>\n",
       "      <th>7</th>\n",
       "      <td>0002M00227000000</td>\n",
       "      <td>1628.0</td>\n",
       "      <td></td>\n",
       "      <td>FORBES AVE</td>\n",
       "      <td>PITTSBURGH</td>\n",
       "      <td>PA</td>\n",
       "      <td></td>\n",
       "      <td>15219.0</td>\n",
       "      <td>101</td>\n",
       "      <td>1st Ward  - PITTSBURGH</td>\n",
       "      <td>...</td>\n",
       "      <td>NaN</td>\n",
       "      <td>NaN</td>\n",
       "      <td>NaN</td>\n",
       "      <td>NaN</td>\n",
       "      <td>NaN</td>\n",
       "      <td>NaN</td>\n",
       "      <td>NaN</td>\n",
       "      <td>NaN</td>\n",
       "      <td>2018</td>\n",
       "      <td>01-SEP-18</td>\n",
       "    </tr>\n",
       "    <tr>\n",
       "      <th>8</th>\n",
       "      <td>0002M00228000000</td>\n",
       "      <td>1631.0</td>\n",
       "      <td></td>\n",
       "      <td>TUSTIN ST</td>\n",
       "      <td>PITTSBURGH</td>\n",
       "      <td>PA</td>\n",
       "      <td></td>\n",
       "      <td>15219.0</td>\n",
       "      <td>101</td>\n",
       "      <td>1st Ward  - PITTSBURGH</td>\n",
       "      <td>...</td>\n",
       "      <td>NaN</td>\n",
       "      <td>NaN</td>\n",
       "      <td>NaN</td>\n",
       "      <td>NaN</td>\n",
       "      <td>NaN</td>\n",
       "      <td>NaN</td>\n",
       "      <td>NaN</td>\n",
       "      <td>NaN</td>\n",
       "      <td>2018</td>\n",
       "      <td>01-SEP-18</td>\n",
       "    </tr>\n",
       "    <tr>\n",
       "      <th>9</th>\n",
       "      <td>0002M00229000000</td>\n",
       "      <td>1626.0</td>\n",
       "      <td></td>\n",
       "      <td>FORBES AVE</td>\n",
       "      <td>PITTSBURGH</td>\n",
       "      <td>PA</td>\n",
       "      <td></td>\n",
       "      <td>15219.0</td>\n",
       "      <td>101</td>\n",
       "      <td>1st Ward  - PITTSBURGH</td>\n",
       "      <td>...</td>\n",
       "      <td>NaN</td>\n",
       "      <td>NaN</td>\n",
       "      <td>NaN</td>\n",
       "      <td>NaN</td>\n",
       "      <td>NaN</td>\n",
       "      <td>NaN</td>\n",
       "      <td>NaN</td>\n",
       "      <td>NaN</td>\n",
       "      <td>2018</td>\n",
       "      <td>01-SEP-18</td>\n",
       "    </tr>\n",
       "  </tbody>\n",
       "</table>\n",
       "<p>10 rows × 86 columns</p>\n",
       "</div>"
      ],
      "text/plain": [
       "              PARID  PROPERTYHOUSENUM PROPERTYFRACTION PROPERTYADDRESS  \\\n",
       "0  0001G00224060300             151.0                   FORT PITT BLVD   \n",
       "1  0001G00224060400             151.0                   FORT PITT BLVD   \n",
       "2  0001G00224060500             151.0                   FORT PITT BLVD   \n",
       "3  0002M00222000000              40.0                     VAN BRAAM ST   \n",
       "4  0002M00223000000              42.0                     VAN BRAAM ST   \n",
       "5  0002M00224000000            1638.0                       FORBES AVE   \n",
       "6  0002M00225000000            1632.0                       FORBES AVE   \n",
       "7  0002M00227000000            1628.0                       FORBES AVE   \n",
       "8  0002M00228000000            1631.0                        TUSTIN ST   \n",
       "9  0002M00229000000            1626.0                       FORBES AVE   \n",
       "\n",
       "  PROPERTYCITY PROPERTYSTATE PROPERTYUNIT  PROPERTYZIP  MUNICODE  \\\n",
       "0   PITTSBURGH            PA     UNIT 603      15222.0       101   \n",
       "1   PITTSBURGH            PA     UNIT 604      15222.0       101   \n",
       "2   PITTSBURGH            PA     UNIT 605      15222.0       101   \n",
       "3   PITTSBURGH            PA                   15219.0       101   \n",
       "4   PITTSBURGH            PA                   15219.0       101   \n",
       "5   PITTSBURGH            PA                   15219.0       101   \n",
       "6   PITTSBURGH            PA                   15219.0       101   \n",
       "7   PITTSBURGH            PA                   15219.0       101   \n",
       "8   PITTSBURGH            PA                   15219.0       101   \n",
       "9   PITTSBURGH            PA                   15219.0       101   \n",
       "\n",
       "                 MUNIDESC    ...      HALFBATHS HEATINGCOOLING  \\\n",
       "0  1st Ward  - PITTSBURGH    ...            0.0              B   \n",
       "1  1st Ward  - PITTSBURGH    ...            0.0              B   \n",
       "2  1st Ward  - PITTSBURGH    ...            1.0              B   \n",
       "3  1st Ward  - PITTSBURGH    ...            0.0              2   \n",
       "4  1st Ward  - PITTSBURGH    ...            0.0              2   \n",
       "5  1st Ward  - PITTSBURGH    ...            NaN            NaN   \n",
       "6  1st Ward  - PITTSBURGH    ...            NaN            NaN   \n",
       "7  1st Ward  - PITTSBURGH    ...            NaN            NaN   \n",
       "8  1st Ward  - PITTSBURGH    ...            NaN            NaN   \n",
       "9  1st Ward  - PITTSBURGH    ...            NaN            NaN   \n",
       "\n",
       "     HEATINGCOOLINGDESC FIREPLACES BSMTGARAGE FINISHEDLIVINGAREA CARDNUMBER  \\\n",
       "0  Central Heat with AC        NaN        NaN             1761.0        1.0   \n",
       "1  Central Heat with AC        NaN        NaN             1275.0        1.0   \n",
       "2  Central Heat with AC        NaN        NaN              888.0        1.0   \n",
       "3          Central Heat        0.0        0.0             1200.0        1.0   \n",
       "4          Central Heat        0.0        0.0             3225.0        1.0   \n",
       "5                   NaN        NaN        NaN                NaN        NaN   \n",
       "6                   NaN        NaN        NaN                NaN        NaN   \n",
       "7                   NaN        NaN        NaN                NaN        NaN   \n",
       "8                   NaN        NaN        NaN                NaN        NaN   \n",
       "9                   NaN        NaN        NaN                NaN        NaN   \n",
       "\n",
       "  ALT_ID TAXYEAR   ASOFDATE  \n",
       "0    NaN    2018  01-SEP-18  \n",
       "1    NaN    2018  01-SEP-18  \n",
       "2    NaN    2018  01-SEP-18  \n",
       "3    NaN    2018  01-SEP-18  \n",
       "4    NaN    2018  01-SEP-18  \n",
       "5    NaN    2018  01-SEP-18  \n",
       "6    NaN    2018  01-SEP-18  \n",
       "7    NaN    2018  01-SEP-18  \n",
       "8    NaN    2018  01-SEP-18  \n",
       "9    NaN    2018  01-SEP-18  \n",
       "\n",
       "[10 rows x 86 columns]"
      ]
     },
     "execution_count": 9,
     "metadata": {},
     "output_type": "execute_result"
    }
   ],
   "source": [
    "# view the first ten lines of the data\n",
    "ach_df.head(10)"
   ]
  },
  {
   "cell_type": "markdown",
   "metadata": {},
   "source": [
    "As we can see this data isn't very clean. There are mixed types in some columns and a whole lot of data that we simply don't want or need. We can handle this as we go."
   ]
  },
  {
   "cell_type": "markdown",
   "metadata": {},
   "source": [
    "This is probably a pretty big dataset. Maybe we should see how many rows we have in our dataframe."
   ]
  },
  {
   "cell_type": "code",
   "execution_count": 18,
   "metadata": {},
   "outputs": [
    {
     "data": {
      "text/plain": [
       "578221"
      ]
     },
     "execution_count": 18,
     "metadata": {},
     "output_type": "execute_result"
    }
   ],
   "source": [
    "len(ach_df)"
   ]
  },
  {
   "cell_type": "markdown",
   "metadata": {},
   "source": [
    "Almost 600,000 rows of data, 86 columns. That's a lot of rows and columns, which is a good thing. It might just mean that we have a lot of cleaning to do and some of our operations take a minute or so to complete depending on how fast our machine is."
   ]
  },
  {
   "cell_type": "code",
   "execution_count": 17,
   "metadata": {},
   "outputs": [],
   "source": [
    "# lets convert the ASOFDATE column to datetime\n",
    "\n",
    "ach_df['ASOFDATE'] = pd.to_datetime(ach_df['ASOFDATE'])"
   ]
  },
  {
   "cell_type": "markdown",
   "metadata": {},
   "source": [
    "#### Graphing Qualitative Data"
   ]
  },
  {
   "cell_type": "markdown",
   "metadata": {},
   "source": [
    "Lets check the datatypes of each column."
   ]
  },
  {
   "cell_type": "code",
   "execution_count": 25,
   "metadata": {},
   "outputs": [
    {
     "data": {
      "text/plain": [
       "PARID                         object\n",
       "PROPERTYHOUSENUM             float64\n",
       "PROPERTYFRACTION              object\n",
       "PROPERTYADDRESS               object\n",
       "PROPERTYCITY                  object\n",
       "PROPERTYSTATE                 object\n",
       "PROPERTYUNIT                  object\n",
       "PROPERTYZIP                  float64\n",
       "MUNICODE                       int64\n",
       "MUNIDESC                      object\n",
       "SCHOOLCODE                     int64\n",
       "SCHOOLDESC                    object\n",
       "LEGAL1                        object\n",
       "LEGAL2                        object\n",
       "LEGAL3                        object\n",
       "NEIGHCODE                     object\n",
       "NEIGHDESC                     object\n",
       "TAXCODE                       object\n",
       "TAXDESC                       object\n",
       "TAXSUBCODE                    object\n",
       "TAXSUBCODE_DESC               object\n",
       "OWNERCODE                      int64\n",
       "OWNERDESC                     object\n",
       "CLASS                         object\n",
       "CLASSDESC                     object\n",
       "USECODE                        int64\n",
       "USEDESC                       object\n",
       "LOTAREA                        int64\n",
       "HOMESTEADFLAG                 object\n",
       "FARMSTEADFLAG                 object\n",
       "                           ...      \n",
       "FAIRMARKETTOTAL                int64\n",
       "STYLE                         object\n",
       "STYLEDESC                     object\n",
       "STORIES                      float64\n",
       "YEARBLT                      float64\n",
       "EXTERIORFINISH               float64\n",
       "EXTFINISH_DESC                object\n",
       "ROOF                         float64\n",
       "ROOFDESC                      object\n",
       "BASEMENT                     float64\n",
       "BASEMENTDESC                  object\n",
       "GRADE                         object\n",
       "GRADEDESC                     object\n",
       "CONDITION                    float64\n",
       "CONDITIONDESC                 object\n",
       "CDU                           object\n",
       "CDUDESC                       object\n",
       "TOTALROOMS                   float64\n",
       "BEDROOMS                     float64\n",
       "FULLBATHS                    float64\n",
       "HALFBATHS                    float64\n",
       "HEATINGCOOLING                object\n",
       "HEATINGCOOLINGDESC            object\n",
       "FIREPLACES                   float64\n",
       "BSMTGARAGE                   float64\n",
       "FINISHEDLIVINGAREA           float64\n",
       "CARDNUMBER                   float64\n",
       "ALT_ID                        object\n",
       "TAXYEAR                        int64\n",
       "ASOFDATE              datetime64[ns]\n",
       "Length: 86, dtype: object"
      ]
     },
     "execution_count": 25,
     "metadata": {},
     "output_type": "execute_result"
    }
   ],
   "source": [
    "ach_df.dtypes"
   ]
  },
  {
   "cell_type": "markdown",
   "metadata": {},
   "source": [
    "##### Cleaning up the data"
   ]
  },
  {
   "cell_type": "markdown",
   "metadata": {},
   "source": [
    "There are two cases "
   ]
  }
 ],
 "metadata": {
  "kernelspec": {
   "display_name": "Python 3",
   "language": "python",
   "name": "python3"
  },
  "language_info": {
   "codemirror_mode": {
    "name": "ipython",
    "version": 3
   },
   "file_extension": ".py",
   "mimetype": "text/x-python",
   "name": "python",
   "nbconvert_exporter": "python",
   "pygments_lexer": "ipython3",
   "version": "3.7.0"
  },
  "toc": {
   "base_numbering": 1,
   "nav_menu": {},
   "number_sections": true,
   "sideBar": true,
   "skip_h1_title": false,
   "title_cell": "Table of Contents",
   "title_sidebar": "Contents",
   "toc_cell": true,
   "toc_position": {},
   "toc_section_display": true,
   "toc_window_display": true
  }
 },
 "nbformat": 4,
 "nbformat_minor": 2
}
