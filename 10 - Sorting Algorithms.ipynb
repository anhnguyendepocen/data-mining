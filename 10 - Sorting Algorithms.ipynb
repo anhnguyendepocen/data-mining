{
 "cells": [
  {
   "cell_type": "markdown",
   "metadata": {
    "toc": true
   },
   "source": [
    "<h1>Table of Contents<span class=\"tocSkip\"></span></h1>\n",
    "<div class=\"toc\"><ul class=\"toc-item\"><li><span><a href=\"#Things-we-dont-normally-think-of-as-algorithms...\" data-toc-modified-id=\"Things-we-dont-normally-think-of-as-algorithms...-1\">Things we dont normally think of as algorithms...</a></span><ul class=\"toc-item\"><li><span><a href=\"#Coding-Interviews\" data-toc-modified-id=\"Coding-Interviews-1.1\">Coding Interviews</a></span><ul class=\"toc-item\"><li><span><a href=\"#Metrics-Considered-by-Interviewers\" data-toc-modified-id=\"Metrics-Considered-by-Interviewers-1.1.1\">Metrics Considered by Interviewers</a></span></li><li><span><a href=\"#Coding-Interview-Problem-Solving-Strategies\" data-toc-modified-id=\"Coding-Interview-Problem-Solving-Strategies-1.1.2\">Coding Interview Problem-Solving Strategies</a></span></li><li><span><a href=\"#Workplace-Problem-Solving-Process\" data-toc-modified-id=\"Workplace-Problem-Solving-Process-1.1.3\">Workplace Problem Solving Process</a></span></li></ul></li></ul></li><li><span><a href=\"#Sorting-Algorithms\" data-toc-modified-id=\"Sorting-Algorithms-2\">Sorting Algorithms</a></span><ul class=\"toc-item\"><li><span><a href=\"#Bubble-Sort\" data-toc-modified-id=\"Bubble-Sort-2.1\">Bubble Sort</a></span></li><li><span><a href=\"#Merge-Sort\" data-toc-modified-id=\"Merge-Sort-2.2\">Merge Sort</a></span></li><li><span><a href=\"#Insertion-Sort\" data-toc-modified-id=\"Insertion-Sort-2.3\">Insertion Sort</a></span></li><li><span><a href=\"#Selection-Sort\" data-toc-modified-id=\"Selection-Sort-2.4\">Selection Sort</a></span></li></ul></li><li><span><a href=\"#Sorting-Algorithms-(in-place)\" data-toc-modified-id=\"Sorting-Algorithms-(in-place)-3\">Sorting Algorithms (in-place)</a></span><ul class=\"toc-item\"><li><span><a href=\"#Bubble-Sort\" data-toc-modified-id=\"Bubble-Sort-3.1\">Bubble Sort</a></span></li><li><span><a href=\"#Insertion-Sort\" data-toc-modified-id=\"Insertion-Sort-3.2\">Insertion Sort</a></span></li><li><span><a href=\"#Merge-Sort\" data-toc-modified-id=\"Merge-Sort-3.3\">Merge Sort</a></span></li><li><span><a href=\"#Quick-Sort\" data-toc-modified-id=\"Quick-Sort-3.4\">Quick Sort</a></span></li><li><span><a href=\"#Heapsort\" data-toc-modified-id=\"Heapsort-3.5\">Heapsort</a></span></li></ul></li><li><span><a href=\"#Related-Bookmarks\" data-toc-modified-id=\"Related-Bookmarks-4\">Related Bookmarks</a></span></li></ul></div>"
   ]
  },
  {
   "cell_type": "markdown",
   "metadata": {},
   "source": [
    "# Things we dont normally think of as algorithms..."
   ]
  },
  {
   "cell_type": "markdown",
   "metadata": {},
   "source": [
    "## Coding Interviews"
   ]
  },
  {
   "cell_type": "markdown",
   "metadata": {},
   "source": [
    "__Google Engineering Interviews__\n",
    "https://www.youtube.com/watch?v=ko-KkSmp-Lk"
   ]
  },
  {
   "cell_type": "markdown",
   "metadata": {},
   "source": [
    "### Metrics Considered by Interviewers"
   ]
  },
  {
   "cell_type": "markdown",
   "metadata": {},
   "source": [
    "__Metrics of a Coding Interview__\n",
    "\n",
    "Was your coding good?\n",
    "  - Object oriented?\n",
    "  - Clean and well structured?\n",
    "  - Algorithms and data structures\n",
    "    - Can you put together a recursive algorithm?\n",
    "    - Can you put together an iterative algorithm?\n",
    "    - What is a stack space and what does it have to do with algorithms?\n",
    "    - Can you give a timespace analysis?\n",
    "    - Do you know the tradeoffs of these different algorithms and data structures?\n",
    "    - Do you know when to use hash tables / arrays / sets?\n",
    "    - Did you consider / can you build your own custom data structures if necessary or appropriate?\n",
    "  - How was your efficiency?\n",
    "  - How was your speed?\n",
    "\n",
    "Does it feel good to work together with you?\n",
    "\n",
    "Are you enthusiastic about learning? Can you take feedback?"
   ]
  },
  {
   "cell_type": "markdown",
   "metadata": {},
   "source": [
    "### Coding Interview Problem-Solving Strategies"
   ]
  },
  {
   "cell_type": "markdown",
   "metadata": {},
   "source": [
    "__Process for a Coding Interview__\n",
    "\n",
    "You are given the problem statement.\n",
    "1. Start with clarifying questions. Clarify all of your most basic assumptions about the problem. Once you answer all of the clarifying questions:\n",
    "2. Start a high level discussion. Just explain the ideas in concept that come to you, don't do much coding. \n",
    " - Feel free to draw diagrams and illustrate your ideas to help you work through it, but don't waste time by writing code that you might have to throw away.\n",
    " - Work through the problem conceptually to find the difficulties.\n",
    " - List out possible solutions. It's rare that your first solution is the optimal solution.\n",
    "3. When you feel you may have a correct solution, even if you aren't totally sure, transition to writing code by saying or asking, \"I think this particular solution is good, should I start coding with that?\"\n",
    " - This makes sure you're communicating with your interviewer, and you also make sure that you're headed int he right direction.\n",
    "4. Work your way through your code, which is itself a recursive process. At the end, run through your code line by line on a few examples to check it and make sure it is correct. Then give a timespace analysis."
   ]
  },
  {
   "cell_type": "markdown",
   "metadata": {},
   "source": [
    "### Workplace Problem Solving Process"
   ]
  },
  {
   "cell_type": "markdown",
   "metadata": {},
   "source": [
    "Here are seven-steps for an effective problem-solving process.\n",
    "\n",
    "1. Identify the issues.\n",
    "\n",
    "Be clear about what the problem is.\n",
    "Remember that different people might have different views of what the issues are.\n",
    "Separate the listing of issues from the identification of interests (that's the next step!).\n",
    "\n",
    "2. Understand everyone's interests.\n",
    "\n",
    "This is a critical step that is usually missing.\n",
    "Interests are the needs that you want satisfied by any given solution. We often ignore our true interests as we become attached to one particular solution.\n",
    "The best solution is the one that satisfies everyone's interests.\n",
    "This is the time for active listening. Put down your differences for awhile and listen to each other with the intention to understand.\n",
    "Separate the naming of interests from the listing of solutions.\n",
    "\n",
    "3. List the possible solutions (options)\n",
    "\n",
    "This is the time to do some brainstorming. There may be lots of room for creativity.\n",
    "Separate the listing of options from the evaluation of the options.\n",
    "\n",
    "4. Evaluate the options.\n",
    "\n",
    "What are the pluses and minuses? Honestly!\n",
    "Separate the evaluation of options from the selection of options.\n",
    "\n",
    "5. Select an option or options.\n",
    "\n",
    "What's the best option, in the balance?\n",
    "Is there a way to \"bundle\" a number of options together for a more satisfactory solution?\n",
    "\n",
    "6. Document the agreement(s).\n",
    "\n",
    "Don't rely on memory.\n",
    "Writing it down will help you think through all the details and implications.\n",
    "\n",
    "7. Agree on contingencies, monitoring, and evaluation.\n",
    "\n",
    "Conditions may change. Make contingency agreements about foreseeable future circumstances (If-then!).\n",
    "How will you monitor compliance and follow-through?\n",
    "Create opportunities to evaluate the agreements and their implementation. (\"Let's try it this way for three months and then look at it.\")\n"
   ]
  },
  {
   "cell_type": "markdown",
   "metadata": {},
   "source": [
    "# Sorting Algorithms\n",
    "\n",
    "*Note: we only test these algorithms on random integers. This is definitely not a comprehensive testing strategy.*"
   ]
  },
  {
   "cell_type": "code",
   "execution_count": 112,
   "metadata": {},
   "outputs": [],
   "source": [
    "# list for testing our algorithms\n",
    "import numpy as np\n",
    "list_ = list(np.random.randint(-225, 225) for i in range(100))"
   ]
  },
  {
   "cell_type": "markdown",
   "metadata": {},
   "source": [
    "## Bubble Sort\n",
    "It is a comparison-based algorithm in which each pair of adjacent elements is compared and the elements are swapped if they are not in order."
   ]
  },
  {
   "cell_type": "code",
   "execution_count": 113,
   "metadata": {},
   "outputs": [],
   "source": [
    "def bubblesort(list_):\n",
    "    for i in range(len(list_)-1,0,-1):\n",
    "        for j in range(i):\n",
    "            if list_[j] > list_[j+1]:\n",
    "                temp = list_[j]\n",
    "                list_[j], list_[j+1]= list_[j+1], temp"
   ]
  },
  {
   "cell_type": "code",
   "execution_count": 114,
   "metadata": {},
   "outputs": [
    {
     "name": "stdout",
     "output_type": "stream",
     "text": [
      "456 µs ± 963 ns per loop (mean ± std. dev. of 7 runs, 1000 loops each)\n"
     ]
    }
   ],
   "source": [
    "# time it\n",
    "%timeit bubblesort(list_.copy())"
   ]
  },
  {
   "cell_type": "markdown",
   "metadata": {},
   "source": [
    "## Merge Sort\n",
    "Merge sort first divides the array into equal halves and then combines them in a sorted manner."
   ]
  },
  {
   "cell_type": "code",
   "execution_count": 115,
   "metadata": {
    "scrolled": true
   },
   "outputs": [],
   "source": [
    "def merge_sort(xs):\n",
    "    if len(xs) <= 1: return xs\n",
    "    mid = len(xs) // 2\n",
    "    left_xs, right_xs = merge_sort(xs[:mid]), merge_sort(xs[mid:])\n",
    "    return list(merge(left_xs, right_xs))\n",
    "\n",
    "def merge(left,right):\n",
    "    res = []\n",
    "    while len(left) != 0 and len(right) != 0:\n",
    "        if left[0] < right[0]: res.append(left[0]); left.remove(left[0])\n",
    "        else: res.append(right[0]); right.remove(right[0])\n",
    "    res = res + right if len(left)==0 else res + left\n",
    "    return res"
   ]
  },
  {
   "cell_type": "code",
   "execution_count": 116,
   "metadata": {},
   "outputs": [
    {
     "name": "stdout",
     "output_type": "stream",
     "text": [
      "213 µs ± 13.3 µs per loop (mean ± std. dev. of 7 runs, 1000 loops each)\n"
     ]
    }
   ],
   "source": [
    "%timeit merge_sort(list_.copy())"
   ]
  },
  {
   "cell_type": "markdown",
   "metadata": {},
   "source": [
    "## Insertion Sort\n",
    "Insertion sort involves finding the right place for a given element in a sorted list. So in beginning we compare the first two elements and sort them by comparing them. Then we pick the third element and find its proper position among the previous two sorted elements. This way we gradually go on adding more elements to the already sorted list by putting them in their proper position."
   ]
  },
  {
   "cell_type": "code",
   "execution_count": 117,
   "metadata": {},
   "outputs": [],
   "source": [
    "def insertion_sort(xs):\n",
    "    for i in range(1, len(xs)):\n",
    "        j, nxt = i-1, xs[i]\n",
    "        # Compare the current element with next\n",
    "        while (xs[j] > nxt) and (j >= 0):\n",
    "            xs[j+1], j = xs[j], j-1\n",
    "        xs[j+1] = nxt"
   ]
  },
  {
   "cell_type": "code",
   "execution_count": 118,
   "metadata": {},
   "outputs": [
    {
     "name": "stdout",
     "output_type": "stream",
     "text": [
      "229 µs ± 677 ns per loop (mean ± std. dev. of 7 runs, 1000 loops each)\n"
     ]
    }
   ],
   "source": [
    "%timeit insertion_sort(list_.copy())"
   ]
  },
  {
   "cell_type": "markdown",
   "metadata": {},
   "source": [
    "## Selection Sort\n",
    "In selection sort we start by finding the minimum value in a given list and move it to a sorted list. Then we repeat the process for each of the remaining elements in the unsorted list. The next element entering the sorted list is compared with the existing elements and placed at its correct position. So at the end all the elements from the unsorted list are sorted."
   ]
  },
  {
   "cell_type": "code",
   "execution_count": 119,
   "metadata": {},
   "outputs": [],
   "source": [
    "def selection_sort(xs):\n",
    "    for i in range(len(xs)):\n",
    "        min_i = i\n",
    "        for j in range(i+1, len(xs)):\n",
    "            if xs[min_i] > xs[j]:\n",
    "                min_i = j\n",
    "        # swap min value with the current value\n",
    "        xs[i], xs[min_i] = xs[min_i], xs[i]"
   ]
  },
  {
   "cell_type": "code",
   "execution_count": 120,
   "metadata": {},
   "outputs": [
    {
     "name": "stdout",
     "output_type": "stream",
     "text": [
      "205 µs ± 518 ns per loop (mean ± std. dev. of 7 runs, 1000 loops each)\n"
     ]
    }
   ],
   "source": [
    "%timeit selection_sort(list_.copy())"
   ]
  },
  {
   "cell_type": "markdown",
   "metadata": {},
   "source": [
    "# Sorting Algorithms (in-place)\n",
    "These perform in-place sorting."
   ]
  },
  {
   "cell_type": "code",
   "execution_count": 90,
   "metadata": {},
   "outputs": [],
   "source": [
    "import numpy as np\n",
    "l_ = list(np.random.randint(-225, 225) for i in range(10000))"
   ]
  },
  {
   "cell_type": "markdown",
   "metadata": {},
   "source": [
    "## Bubble Sort"
   ]
  },
  {
   "cell_type": "code",
   "execution_count": 49,
   "metadata": {},
   "outputs": [],
   "source": [
    "# bubblesort requires twice as much memory as its input\n",
    "\n",
    "def bubble_sort(xs):\n",
    "    for i in range(len(xs)):\n",
    "        for j in range(len(xs)-1-i):\n",
    "            if xs[j] > xs[j+1]: xs[j], xs[j+1] = xs[j+1], xs[j]"
   ]
  },
  {
   "cell_type": "code",
   "execution_count": 51,
   "metadata": {},
   "outputs": [
    {
     "name": "stdout",
     "output_type": "stream",
     "text": [
      "2.8 s ± 24.2 ms per loop (mean ± std. dev. of 7 runs, 1 loop each)\n"
     ]
    }
   ],
   "source": [
    "%timeit bubble_sort(l_)"
   ]
  },
  {
   "cell_type": "markdown",
   "metadata": {},
   "source": [
    "## Insertion Sort"
   ]
  },
  {
   "cell_type": "code",
   "execution_count": 72,
   "metadata": {},
   "outputs": [],
   "source": [
    "def insertion_sort(xs):\n",
    "    i = 0\n",
    "    while i < len(xs):\n",
    "        j, i = i, i+1\n",
    "        while j > 0 and xs[j] < xs[j-1]:\n",
    "            xs[j], xs[j-1], j = xs[j-1], xs[j], j-1"
   ]
  },
  {
   "cell_type": "code",
   "execution_count": 75,
   "metadata": {},
   "outputs": [
    {
     "name": "stdout",
     "output_type": "stream",
     "text": [
      "1.42 ms ± 28.4 µs per loop (mean ± std. dev. of 7 runs, 1 loop each)\n"
     ]
    }
   ],
   "source": [
    "%timeit insertion_sort(l_)"
   ]
  },
  {
   "cell_type": "markdown",
   "metadata": {},
   "source": [
    "## Merge Sort"
   ]
  },
  {
   "cell_type": "code",
   "execution_count": 87,
   "metadata": {},
   "outputs": [],
   "source": [
    "def merge_sort(xs):\n",
    "    if len(xs) > 1:\n",
    "        # split at midpoint\n",
    "        mid   = int(len(xs) / 2)    \n",
    "        left, right  = xs[0:mid], xs[mid:]\n",
    "        # Sort left and right lists in-place\n",
    "        merge_sort(left); merge_sort(right)           \n",
    "        # merge the two halves\n",
    "        l, r = 0, 0 # left index, right index\n",
    "        for i in range(len(xs)):     \n",
    "            lval = left[l]  if l < len(left)  else None\n",
    "            rval = right[r] if r < len(right) else None\n",
    "            if   (lval and rval and lval <  rval) or rval is None: xs[i], l = lval, l+1\n",
    "            elif (lval and rval and lval >= rval) or lval is None: xs[i], r = rval, r+1"
   ]
  },
  {
   "cell_type": "code",
   "execution_count": 94,
   "metadata": {},
   "outputs": [
    {
     "name": "stdout",
     "output_type": "stream",
     "text": [
      "36.8 ms ± 138 µs per loop (mean ± std. dev. of 7 runs, 10 loops each)\n"
     ]
    }
   ],
   "source": [
    "%timeit merge_sort(l_.copy())"
   ]
  },
  {
   "cell_type": "markdown",
   "metadata": {},
   "source": [
    "## Quick Sort"
   ]
  },
  {
   "cell_type": "code",
   "execution_count": 100,
   "metadata": {},
   "outputs": [],
   "source": [
    "def quick_sort(xs):\n",
    "        if len(xs) > 1:\n",
    "                mid = int(len(xs) / 2)\n",
    "                small, large = [], []\n",
    "                for i, val in enumerate(xs):\n",
    "                        if i != mid:\n",
    "                                if val < xs[mid]: small.append(val)\n",
    "                                else: large.append(val)\n",
    "                quick_sort(small); quick_sort(large)\n",
    "                xs[:] = small + [xs[mid]] + large"
   ]
  },
  {
   "cell_type": "code",
   "execution_count": 101,
   "metadata": {},
   "outputs": [
    {
     "name": "stdout",
     "output_type": "stream",
     "text": [
      "28.7 ms ± 79 µs per loop (mean ± std. dev. of 7 runs, 10 loops each)\n"
     ]
    }
   ],
   "source": [
    "%timeit quick_sort(l_.copy())"
   ]
  },
  {
   "cell_type": "markdown",
   "metadata": {},
   "source": [
    "## Heapsort"
   ]
  },
  {
   "cell_type": "code",
   "execution_count": 102,
   "metadata": {},
   "outputs": [],
   "source": [
    "import heapq as HQ\n",
    "\n",
    "def heap_sort(xs):\n",
    "        HQ.heapify(xs)\n",
    "        xs[:] = [HQ.heappop(xs) for i in range(len(xs))]"
   ]
  },
  {
   "cell_type": "code",
   "execution_count": 103,
   "metadata": {},
   "outputs": [
    {
     "name": "stdout",
     "output_type": "stream",
     "text": [
      "2.74 ms ± 4.46 µs per loop (mean ± std. dev. of 7 runs, 100 loops each)\n"
     ]
    }
   ],
   "source": [
    "%timeit heap_sort(l_.copy())"
   ]
  },
  {
   "cell_type": "markdown",
   "metadata": {},
   "source": [
    "# Related Bookmarks"
   ]
  },
  {
   "cell_type": "markdown",
   "metadata": {},
   "source": [
    "Good stuff: https://towardsdatascience.com/top-algorithms-and-data-structures-you-really-need-to-know-ab9a2a91c7b5"
   ]
  },
  {
   "cell_type": "markdown",
   "metadata": {},
   "source": [
    "Animated sorting: https://www.toptal.com/developers/sorting-algorithms"
   ]
  },
  {
   "cell_type": "markdown",
   "metadata": {},
   "source": [
    "Video about how the mighty `dict` works (great stuff): https://www.youtube.com/watch?v=C4Kc8xzcA68"
   ]
  },
  {
   "cell_type": "markdown",
   "metadata": {},
   "source": [
    "__Fact: a `set` is a dictionary without without storage for the value.__ So in <a href=\"https://www.youtube.com/watch?v=XKu_SEDAykw\">this video</a> about interviewing to work at google, in python we might use a `set` to do what the interviewee does with a `hash table` in C++.\n",
    "\n",
    "https://dbader.org/blog/fundamental-data-structures-in-python"
   ]
  }
 ],
 "metadata": {
  "kernelspec": {
   "display_name": "Python 3",
   "language": "python",
   "name": "python3"
  },
  "language_info": {
   "codemirror_mode": {
    "name": "ipython",
    "version": 3
   },
   "file_extension": ".py",
   "mimetype": "text/x-python",
   "name": "python",
   "nbconvert_exporter": "python",
   "pygments_lexer": "ipython3",
   "version": "3.6.6"
  },
  "toc": {
   "base_numbering": 1,
   "nav_menu": {},
   "number_sections": false,
   "sideBar": true,
   "skip_h1_title": false,
   "title_cell": "Table of Contents",
   "title_sidebar": "Contents",
   "toc_cell": true,
   "toc_position": {},
   "toc_section_display": true,
   "toc_window_display": true
  }
 },
 "nbformat": 4,
 "nbformat_minor": 2
}
