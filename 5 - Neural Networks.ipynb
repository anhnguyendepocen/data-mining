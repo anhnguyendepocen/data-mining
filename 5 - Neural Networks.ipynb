{
 "cells": [
  {
   "cell_type": "markdown",
   "metadata": {},
   "source": [
    "# Neural Networks\n",
    "\n",
    "1. Multilayer Perceptron - MNIST Handwritten Numbers\n",
    "2. Convolutional Neural Networks - \n",
    "3. Recurrent Neural Networks - "
   ]
  },
  {
   "cell_type": "code",
   "execution_count": 2,
   "metadata": {},
   "outputs": [
    {
     "ename": "NameError",
     "evalue": "name 'input_data' is not defined",
     "output_type": "error",
     "traceback": [
      "\u001b[1;31m---------------------------------------------------------------------------\u001b[0m",
      "\u001b[1;31mNameError\u001b[0m                                 Traceback (most recent call last)",
      "\u001b[1;32m<ipython-input-2-8bf8d342d56d>\u001b[0m in \u001b[0;36m<module>\u001b[1;34m\u001b[0m\n\u001b[0;32m      2\u001b[0m \u001b[1;31m#from tensorflow.examples.tutorials.mnist import input_data\u001b[0m\u001b[1;33m\u001b[0m\u001b[1;33m\u001b[0m\u001b[0m\n\u001b[0;32m      3\u001b[0m \u001b[1;33m\u001b[0m\u001b[0m\n\u001b[1;32m----> 4\u001b[1;33m \u001b[0mmnist\u001b[0m \u001b[1;33m=\u001b[0m \u001b[0minput_data\u001b[0m\u001b[1;33m.\u001b[0m\u001b[0mread_data_sets\u001b[0m\u001b[1;33m(\u001b[0m\u001b[1;34m\"/tmp/data\"\u001b[0m\u001b[1;33m,\u001b[0m \u001b[0mone_hot\u001b[0m\u001b[1;33m=\u001b[0m\u001b[1;32mTrue\u001b[0m\u001b[1;33m)\u001b[0m\u001b[1;33m\u001b[0m\u001b[0m\n\u001b[0m\u001b[0;32m      5\u001b[0m \u001b[1;33m\u001b[0m\u001b[0m\n\u001b[0;32m      6\u001b[0m \u001b[0mlearning_rate\u001b[0m \u001b[1;33m=\u001b[0m \u001b[1;36m0.0005\u001b[0m  \u001b[1;31m# how quickly to learn\u001b[0m\u001b[1;33m\u001b[0m\u001b[0m\n",
      "\u001b[1;31mNameError\u001b[0m: name 'input_data' is not defined"
     ]
    }
   ],
   "source": [
    "import tensorflow as tf\n",
    "#from tensorflow.examples.tutorials.mnist import input_data\n",
    "\n",
    "mnist = input_data.read_data_sets(\"/tmp/data\", one_hot=True)\n",
    "\n",
    "learning_rate = 0.0005  # how quickly to learn\n",
    "training_epochs = 25\n",
    "batch_size = 128\n",
    "\n",
    "n_classes = 10  # MNIST total classes (0 - 9 digits)\n",
    "n_samples = mnist.train.num_examples  # (how many images)\n",
    "\n",
    "n_input = 784  # MNIST data input (img shape is 28x28)\n",
    "\n",
    "n_hidden_1 = 512  # 1st layer number of neurons\n",
    "n_hidden_2 = 256  # 2nd layer number of neurons"
   ]
  },
  {
   "cell_type": "code",
   "execution_count": null,
   "metadata": {},
   "outputs": [],
   "source": [
    "def multilayer_perceptron(x, weights, biases):#, keep_prob):\n",
    "    '''\n",
    "    x: Placeholder for data input\n",
    "    weights: Dictionary of weights\n",
    "    biases: Dictionary of bias values\n",
    "    '''\n",
    "    # First hidden layer with RELU activation\n",
    "    # X * W + B\n",
    "    layer_1 = tf.add(tf.matmul(x, weights['h1']), biases['b1'])\n",
    "    # RELU(X * W + B) = RELU -> f(x) = max(0,x)\n",
    "    layer_1 = tf.nn.relu(layer_1)\n",
    "     \n",
    "\n",
    "    # Second hidden layer\n",
    "    layer_2 = tf.add(tf.matmul(layer_1, weights['h2']), biases['b2'])\n",
    "    layer_2 = tf.nn.relu(layer_2)\n",
    "\n",
    "    # Output layer\n",
    "    out_layer = tf.matmul(layer_2, weights['out']) + biases['out']\n",
    "    return out_layer"
   ]
  },
  {
   "cell_type": "code",
   "execution_count": 92,
   "metadata": {},
   "outputs": [],
   "source": [
    "def multilayer_perceptron(x, weights, biases, keep_prob):\n",
    "    '''\n",
    "    x: Placeholder for data input\n",
    "    weights: Dictionary of weights\n",
    "    biases: Dictionary of bias values\n",
    "    '''\n",
    "    # First hidden layer with dropout\n",
    "    layer_1 = tf.add(tf.matmul(x, weights['h1']), biases['b1'])\n",
    "    layer_1 = tf.nn.relu(layer_1)\n",
    "    layer_1 = tf.nn.dropout(layer_1, keep_prob)\n",
    "    \n",
    "    # Second hidden layer with dropout\n",
    "    layer_2 = tf.add(tf.matmul(layer_1, weights['h2']), biases['b2'])\n",
    "    layer_2 = tf.nn.relu(layer_2) \n",
    "    layer_2 = tf.nn.dropout(layer_2, keep_prob)\n",
    "\n",
    "    # Output layer\n",
    "    out_layer = tf.sigmoid(tf.matmul(layer_2, weights['out']) + biases['out'])\n",
    "    return out_layer"
   ]
  },
  {
   "cell_type": "code",
   "execution_count": null,
   "metadata": {},
   "outputs": [],
   "source": []
  },
  {
   "cell_type": "code",
   "execution_count": 97,
   "metadata": {},
   "outputs": [
    {
     "name": "stdout",
     "output_type": "stream",
     "text": [
      "Epoch 1: cost=63.0963\n",
      "Epoch 2: cost=44.8840\n",
      "Epoch 3: cost=32.0865\n",
      "Epoch 4: cost=22.9439\n",
      "Epoch 5: cost=16.3933\n",
      "Epoch 6: cost=11.7135\n",
      "Epoch 7: cost=8.3958\n",
      "Epoch 8: cost=6.0726\n",
      "Epoch 9: cost=4.4707\n",
      "Epoch 10: cost=3.3857\n",
      "Epoch 11: cost=2.6641\n",
      "Epoch 12: cost=2.1937\n",
      "Epoch 13: cost=1.8938\n",
      "Epoch 14: cost=1.7068\n",
      "Epoch 15: cost=1.5946\n",
      "Epoch 16: cost=1.5302\n",
      "Epoch 17: cost=1.4953\n",
      "Epoch 18: cost=1.4778\n",
      "Epoch 19: cost=1.4697\n",
      "Epoch 20: cost=1.4670\n",
      "Epoch 21: cost=1.4659\n",
      "Epoch 22: cost=1.4652\n",
      "Epoch 23: cost=1.4650\n",
      "Epoch 24: cost=1.4651\n",
      "Epoch 25: cost=1.4650\n",
      "Model has completed 25 Epochs of training\n"
     ]
    },
    {
     "data": {
      "text/plain": [
       "0.9815"
      ]
     },
     "execution_count": 97,
     "metadata": {},
     "output_type": "execute_result"
    }
   ],
   "source": [
    "weights = {\n",
    "    'h1':  tf.Variable(tf.random_normal([n_input,    n_hidden_1], stddev=(1/tf.sqrt(float(n_input))))),\n",
    "    'h2':  tf.Variable(tf.random_normal([n_hidden_1, n_hidden_2], stddev=(1/tf.sqrt(float(n_input))))),\n",
    "    'out': tf.Variable(tf.random_normal([n_hidden_2, n_classes],  stddev=(1/tf.sqrt(float(n_input)))))\n",
    "}\n",
    "\n",
    "biases = {\n",
    "    'b1':  tf.Variable(tf.random_normal([n_hidden_1])),\n",
    "    'b2':  tf.Variable(tf.random_normal([n_hidden_2])),\n",
    "    'out': tf.Variable(tf.random_normal([n_classes]))\n",
    "}\n",
    "\n",
    "x = tf.placeholder('float', [None, n_input])\n",
    "y = tf.placeholder('float', [None, n_classes])\n",
    "\n",
    "# add dropout layer\n",
    "keep_prob = tf.placeholder(tf.float32)\n",
    "\n",
    "pred = multilayer_perceptron(x, weights, biases, keep_prob)\n",
    "\n",
    "#cost = tf.reduce_mean(\n",
    "#    tf.nn.softmax_cross_entropy_with_logits_v2(logits=pred, labels=y))\n",
    "\n",
    "regularizer_rate = 0.1\n",
    "cost = tf.reduce_mean(\n",
    "    tf.nn.softmax_cross_entropy_with_logits_v2(logits=pred, labels=y)) \\\n",
    "        + regularizer_rate*(tf.reduce_sum(tf.square(biases['b1'])) + tf.reduce_sum(tf.square(biases['b2'])))\n",
    "\n",
    "optimiser = tf.train.AdamOptimizer(learning_rate=learning_rate).minimize(cost)\n",
    "\n",
    "sess = tf.InteractiveSession()\n",
    "\n",
    "init = tf.global_variables_initializer()\n",
    "\n",
    "sess.run(init)\n",
    "\n",
    "# 15 loops as we set training_epochs = 15\n",
    "for epoch in range(training_epochs):\n",
    "    # Cost\n",
    "    avg_cost = 0.0\n",
    "    total_batch = int(n_samples/batch_size)\n",
    "    for i in range(total_batch):\n",
    "        # Grab the next batch of training data and labels\n",
    "        batch_x, batch_y = mnist.train.next_batch(batch_size)\n",
    "        # Feed dictionary for optimization and loss value\n",
    "        # Returns a tuple, but we only need 'c' the cost\n",
    "        # So we set an underscore as a \"throwaway\"\n",
    "        # Feed a value < 1.0 to keep prob during training\n",
    "        _, c = sess.run([optimiser, cost], feed_dict={\n",
    "                        x: batch_x, y: batch_y, keep_prob: 1})\n",
    "        avg_cost += c/total_batch\n",
    "    print(\"Epoch {}: cost={:.4f}\".format(epoch+1, avg_cost))\n",
    "print(\"Model has completed {} Epochs of training\".format(training_epochs))\n",
    "\n",
    "\n",
    "correct_pred = tf.equal(tf.argmax(pred, 1), tf.argmax(y, 1))  # checks if x==y?\n",
    "correct_pred = tf.cast(correct_pred, 'float')\n",
    "accuracy = tf.reduce_mean(correct_pred)\n",
    "# feed a value of 1.0 to keep prob\n",
    "accuracy.eval({x: mnist.test.images, y: mnist.test.labels, keep_prob: 1.0})"
   ]
  },
  {
   "cell_type": "code",
   "execution_count": 99,
   "metadata": {},
   "outputs": [
    {
     "name": "stdout",
     "output_type": "stream",
     "text": [
      "validation accuracy: 0.9815\n",
      "Precision 0.9815\n",
      "Recall 0.9815\n",
      "f1_score 0.9815\n",
      "confusion_matrix\n",
      "[[ 975    1    0    0    0    0    2    1    1    0]\n",
      " [   1 1124    3    0    0    1    4    0    2    0]\n",
      " [   3    2 1012    1    2    0    1    6    4    1]\n",
      " [   1    0    6  990    0    2    1    4    3    3]\n",
      " [   0    0    2    0  957    0    6    2    1   14]\n",
      " [   3    0    0    5    1  875    3    1    2    2]\n",
      " [   4    2    1    1    2    2  946    0    0    0]\n",
      " [   0    5    9    0    0    0    0 1006    3    5]\n",
      " [   4    0    3    3    5    2    4    5  944    4]\n",
      " [   3    2    0    3    4    2    2    6    1  986]]\n"
     ]
    }
   ],
   "source": [
    "import numpy as np\n",
    "import sklearn as sk\n",
    "\n",
    "#metrics\n",
    "y_p = tf.argmax(pred, 1)\n",
    "val_accuracy, y_pred = sess.run([accuracy, y_p], feed_dict={x: mnist.test.images, y: mnist.test.labels, keep_prob: 1.0})\n",
    "\n",
    "print(\"validation accuracy:\", val_accuracy)\n",
    "y_true = np.argmax(mnist.test.labels,1)\n",
    "print(\"Precision\", sk.metrics.precision_score(y_true, y_pred, average='micro'))\n",
    "print(\"Recall\", sk.metrics.recall_score(y_true, y_pred, average='micro'))\n",
    "print(\"f1_score\", sk.metrics.f1_score(y_true, y_pred, average='micro'))\n",
    "print(\"confusion_matrix\")\n",
    "print(sk.metrics.confusion_matrix(y_true, y_pred))"
   ]
  },
  {
   "cell_type": "code",
   "execution_count": null,
   "metadata": {},
   "outputs": [],
   "source": []
  }
 ],
 "metadata": {
  "kernelspec": {
   "display_name": "Python 3",
   "language": "python",
   "name": "python3"
  },
  "language_info": {
   "codemirror_mode": {
    "name": "ipython",
    "version": 3
   },
   "file_extension": ".py",
   "mimetype": "text/x-python",
   "name": "python",
   "nbconvert_exporter": "python",
   "pygments_lexer": "ipython3",
   "version": "3.6.6"
  },
  "toc": {
   "base_numbering": 1,
   "nav_menu": {},
   "number_sections": true,
   "sideBar": true,
   "skip_h1_title": false,
   "title_cell": "Table of Contents",
   "title_sidebar": "Contents",
   "toc_cell": false,
   "toc_position": {},
   "toc_section_display": true,
   "toc_window_display": false
  }
 },
 "nbformat": 4,
 "nbformat_minor": 2
}
