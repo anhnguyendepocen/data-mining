{
 "cells": [
  {
   "cell_type": "markdown",
   "metadata": {},
   "source": [
    "# Neural Networks\n",
    "\n",
    "1. Multilayer Perceptron - MNIST Handwritten Numbers\n",
    "2. Convolutional Neural Networks - \n",
    "3. Recurrent Neural Networks - "
   ]
  },
  {
   "cell_type": "markdown",
   "metadata": {},
   "source": [
    "## Multilayer Perceptron\n",
    "\n",
    "In the end we get 98% accuracy. Pretty good!"
   ]
  },
  {
   "cell_type": "code",
   "execution_count": 1,
   "metadata": {
    "collapsed": true
   },
   "outputs": [
    {
     "name": "stdout",
     "output_type": "stream",
     "text": [
      "WARNING:tensorflow:From <ipython-input-1-0223453e4375>:4: read_data_sets (from tensorflow.contrib.learn.python.learn.datasets.mnist) is deprecated and will be removed in a future version.\n",
      "Instructions for updating:\n",
      "Please use alternatives such as official/mnist/dataset.py from tensorflow/models.\n",
      "WARNING:tensorflow:From /home/torchl/.local/lib/python3.6/site-packages/tensorflow/contrib/learn/python/learn/datasets/mnist.py:260: maybe_download (from tensorflow.contrib.learn.python.learn.datasets.base) is deprecated and will be removed in a future version.\n",
      "Instructions for updating:\n",
      "Please write your own downloading logic.\n",
      "WARNING:tensorflow:From /home/torchl/.local/lib/python3.6/site-packages/tensorflow/contrib/learn/python/learn/datasets/mnist.py:262: extract_images (from tensorflow.contrib.learn.python.learn.datasets.mnist) is deprecated and will be removed in a future version.\n",
      "Instructions for updating:\n",
      "Please use tf.data to implement this functionality.\n",
      "Extracting /tmp/data/train-images-idx3-ubyte.gz\n",
      "WARNING:tensorflow:From /home/torchl/.local/lib/python3.6/site-packages/tensorflow/contrib/learn/python/learn/datasets/mnist.py:267: extract_labels (from tensorflow.contrib.learn.python.learn.datasets.mnist) is deprecated and will be removed in a future version.\n",
      "Instructions for updating:\n",
      "Please use tf.data to implement this functionality.\n",
      "Extracting /tmp/data/train-labels-idx1-ubyte.gz\n",
      "WARNING:tensorflow:From /home/torchl/.local/lib/python3.6/site-packages/tensorflow/contrib/learn/python/learn/datasets/mnist.py:110: dense_to_one_hot (from tensorflow.contrib.learn.python.learn.datasets.mnist) is deprecated and will be removed in a future version.\n",
      "Instructions for updating:\n",
      "Please use tf.one_hot on tensors.\n",
      "Extracting /tmp/data/t10k-images-idx3-ubyte.gz\n",
      "Extracting /tmp/data/t10k-labels-idx1-ubyte.gz\n",
      "WARNING:tensorflow:From /home/torchl/.local/lib/python3.6/site-packages/tensorflow/contrib/learn/python/learn/datasets/mnist.py:290: DataSet.__init__ (from tensorflow.contrib.learn.python.learn.datasets.mnist) is deprecated and will be removed in a future version.\n",
      "Instructions for updating:\n",
      "Please use alternatives such as official/mnist/dataset.py from tensorflow/models.\n"
     ]
    }
   ],
   "source": [
    "import tensorflow as tf\n",
    "from tensorflow.examples.tutorials.mnist import input_data\n",
    "\n",
    "mnist = input_data.read_data_sets(\"/tmp/data\", one_hot=True)\n",
    "\n",
    "learning_rate = 0.0005  # how quickly to learn\n",
    "training_epochs = 25\n",
    "batch_size = 128\n",
    "\n",
    "n_classes = 10  # MNIST total classes (0 - 9 digits)\n",
    "n_samples = mnist.train.num_examples  # (how many images)\n",
    "\n",
    "n_input = 784  # MNIST data input (img shape is 28x28)\n",
    "\n",
    "n_hidden_1 = 512  # 1st layer number of neurons\n",
    "n_hidden_2 = 256  # 2nd layer number of neurons"
   ]
  },
  {
   "cell_type": "code",
   "execution_count": 2,
   "metadata": {},
   "outputs": [],
   "source": [
    "def multilayer_perceptron(x, weights, biases):#, keep_prob):\n",
    "    '''\n",
    "    x: Placeholder for data input\n",
    "    weights: Dictionary of weights\n",
    "    biases: Dictionary of bias values\n",
    "    '''\n",
    "    # First hidden layer with RELU activation\n",
    "    # X * W + B\n",
    "    layer_1 = tf.add(tf.matmul(x, weights['h1']), biases['b1'])\n",
    "    # RELU(X * W + B) = RELU -> f(x) = max(0,x)\n",
    "    layer_1 = tf.nn.relu(layer_1)\n",
    "     \n",
    "\n",
    "    # Second hidden layer\n",
    "    layer_2 = tf.add(tf.matmul(layer_1, weights['h2']), biases['b2'])\n",
    "    layer_2 = tf.nn.relu(layer_2)\n",
    "\n",
    "    # Output layer\n",
    "    out_layer = tf.matmul(layer_2, weights['out']) + biases['out']\n",
    "    return out_layer"
   ]
  },
  {
   "cell_type": "code",
   "execution_count": 5,
   "metadata": {},
   "outputs": [],
   "source": [
    "def multilayer_perceptron(x, weights, biases):\n",
    "    '''\n",
    "    x: Placeholder for data input\n",
    "    weights: Dictionary of weights\n",
    "    biases: Dictionary of bias values\n",
    "    '''\n",
    "    # First hidden layer with dropout\n",
    "    layer_1 = tf.add(tf.matmul(x, weights['h1']), biases['b1'])\n",
    "    layer_1 = tf.nn.relu(layer_1)\n",
    "    \n",
    "    # Second hidden layer with dropout\n",
    "    layer_2 = tf.add(tf.matmul(layer_1, weights['h2']), biases['b2'])\n",
    "    layer_2 = tf.nn.relu(layer_2)\n",
    "\n",
    "    # Output layer\n",
    "    out_layer = tf.sigmoid(tf.matmul(layer_2, weights['out']) + biases['out'])\n",
    "    return out_layer"
   ]
  },
  {
   "cell_type": "code",
   "execution_count": null,
   "metadata": {},
   "outputs": [],
   "source": []
  },
  {
   "cell_type": "code",
   "execution_count": 6,
   "metadata": {},
   "outputs": [
    {
     "name": "stdout",
     "output_type": "stream",
     "text": [
      "Epoch 1: cost=64.1766\n",
      "Epoch 2: cost=46.1122\n",
      "Epoch 3: cost=33.3201\n",
      "Epoch 4: cost=24.0972\n",
      "Epoch 5: cost=17.4217\n",
      "Epoch 6: cost=12.5988\n",
      "Epoch 7: cost=9.1359\n",
      "Epoch 8: cost=6.6735\n",
      "Epoch 9: cost=4.9475\n",
      "Epoch 10: cost=3.7571\n",
      "Epoch 11: cost=2.9502\n",
      "Epoch 12: cost=2.4115\n",
      "Epoch 13: cost=2.0568\n",
      "Epoch 14: cost=1.8264\n",
      "Epoch 15: cost=1.6789\n",
      "Epoch 16: cost=1.5868\n",
      "Epoch 17: cost=1.5305\n",
      "Epoch 18: cost=1.4981\n",
      "Epoch 19: cost=1.4804\n",
      "Epoch 20: cost=1.4721\n",
      "Epoch 21: cost=1.4680\n",
      "Epoch 22: cost=1.4662\n",
      "Epoch 23: cost=1.4655\n",
      "Epoch 24: cost=1.4654\n",
      "Epoch 25: cost=1.4650\n",
      "Model has completed 25 Epochs of training\n"
     ]
    },
    {
     "data": {
      "text/plain": [
       "0.98"
      ]
     },
     "execution_count": 6,
     "metadata": {},
     "output_type": "execute_result"
    }
   ],
   "source": [
    "weights = {\n",
    "    'h1':  tf.Variable(tf.random_normal([n_input,    n_hidden_1], stddev=(1/tf.sqrt(float(n_input))))),\n",
    "    'h2':  tf.Variable(tf.random_normal([n_hidden_1, n_hidden_2], stddev=(1/tf.sqrt(float(n_input))))),\n",
    "    'out': tf.Variable(tf.random_normal([n_hidden_2, n_classes],  stddev=(1/tf.sqrt(float(n_input)))))\n",
    "}\n",
    "\n",
    "biases = {\n",
    "    'b1':  tf.Variable(tf.random_normal([n_hidden_1])),\n",
    "    'b2':  tf.Variable(tf.random_normal([n_hidden_2])),\n",
    "    'out': tf.Variable(tf.random_normal([n_classes]))\n",
    "}\n",
    "\n",
    "x = tf.placeholder('float', [None, n_input])\n",
    "y = tf.placeholder('float', [None, n_classes])\n",
    "\n",
    "# add dropout layer\n",
    "keep_prob = tf.placeholder(tf.float32)\n",
    "\n",
    "pred = multilayer_perceptron(x, weights, biases)#, keep_prob)\n",
    "\n",
    "#cost = tf.reduce_mean(\n",
    "#    tf.nn.softmax_cross_entropy_with_logits_v2(logits=pred, labels=y))\n",
    "\n",
    "regularizer_rate = 0.1\n",
    "cost = tf.reduce_mean(\n",
    "    tf.nn.softmax_cross_entropy_with_logits_v2(logits=pred, labels=y)) \\\n",
    "        + regularizer_rate*(tf.reduce_sum(tf.square(biases['b1'])) + tf.reduce_sum(tf.square(biases['b2'])))\n",
    "\n",
    "optimiser = tf.train.AdamOptimizer(learning_rate=learning_rate).minimize(cost)\n",
    "\n",
    "sess = tf.InteractiveSession()\n",
    "\n",
    "init = tf.global_variables_initializer()\n",
    "\n",
    "sess.run(init)\n",
    "\n",
    "# 15 loops as we set training_epochs = 15\n",
    "for epoch in range(training_epochs):\n",
    "    # Cost\n",
    "    avg_cost = 0.0\n",
    "    total_batch = int(n_samples/batch_size)\n",
    "    for i in range(total_batch):\n",
    "        # Grab the next batch of training data and labels\n",
    "        batch_x, batch_y = mnist.train.next_batch(batch_size)\n",
    "        # Feed dictionary for optimization and loss value\n",
    "        # Returns a tuple, but we only need 'c' the cost\n",
    "        # So we set an underscore as a \"throwaway\"\n",
    "        # Feed a value < 1.0 to keep prob during training\n",
    "        _, c = sess.run([optimiser, cost], feed_dict={\n",
    "                        x: batch_x, y: batch_y, keep_prob: 1})\n",
    "        avg_cost += c/total_batch\n",
    "    print(\"Epoch {}: cost={:.4f}\".format(epoch+1, avg_cost))\n",
    "print(\"Model has completed {} Epochs of training\".format(training_epochs))\n",
    "\n",
    "\n",
    "correct_pred = tf.equal(tf.argmax(pred, 1), tf.argmax(y, 1))  # checks if x==y?\n",
    "correct_pred = tf.cast(correct_pred, 'float')\n",
    "accuracy = tf.reduce_mean(correct_pred)\n",
    "# feed a value of 1.0 to keep prob\n",
    "accuracy.eval({x: mnist.test.images, y: mnist.test.labels, keep_prob: 1.0})"
   ]
  },
  {
   "cell_type": "code",
   "execution_count": 7,
   "metadata": {},
   "outputs": [
    {
     "name": "stdout",
     "output_type": "stream",
     "text": [
      "validation accuracy: 0.98\n",
      "Precision 0.98\n",
      "Recall 0.98\n",
      "f1_score 0.98\n",
      "confusion_matrix\n",
      "[[ 973    0    0    1    1    1    0    1    3    0]\n",
      " [   0 1126    3    1    0    0    2    1    2    0]\n",
      " [   4    2 1004    1    5    1    0    8    6    1]\n",
      " [   0    0    2  987    0    8    1    6    3    3]\n",
      " [   1    0    2    1  964    0    3    1    0   10]\n",
      " [   3    0    0    4    2  876    3    1    2    1]\n",
      " [   4    2    2    1    5    9  932    0    3    0]\n",
      " [   1    4    5    0    1    0    0 1009    2    6]\n",
      " [   5    0    2    1    6    1    1    5  949    4]\n",
      " [   4    2    0    3    7    3    0    7    3  980]]\n"
     ]
    }
   ],
   "source": [
    "import numpy as np\n",
    "import sklearn as sk\n",
    "\n",
    "#metrics\n",
    "y_p = tf.argmax(pred, 1)\n",
    "val_accuracy, y_pred = sess.run([accuracy, y_p], feed_dict={x: mnist.test.images, y: mnist.test.labels, keep_prob: 1.0})\n",
    "\n",
    "print(\"validation accuracy:\", val_accuracy)\n",
    "y_true = np.argmax(mnist.test.labels,1)\n",
    "print(\"Precision\", sk.metrics.precision_score(y_true, y_pred, average='micro'))\n",
    "print(\"Recall\", sk.metrics.recall_score(y_true, y_pred, average='micro'))\n",
    "print(\"f1_score\", sk.metrics.f1_score(y_true, y_pred, average='micro'))\n",
    "print(\"confusion_matrix\")\n",
    "print(sk.metrics.confusion_matrix(y_true, y_pred))"
   ]
  },
  {
   "cell_type": "markdown",
   "metadata": {},
   "source": [
    "## Convolutional Neural Network"
   ]
  },
  {
   "cell_type": "markdown",
   "metadata": {},
   "source": [
    "### How it works\n",
    "\n",
    "Believe it or not, it is actually pretty simple once it is broken down into steps.\n",
    "\n",
    "\n",
    "Despite the bad humor, <a href=\"https://medium.com/deep-math-machine-learning-ai/chapter-8-0-convolutional-neural-networks-for-deep-learning-364971e34ab2\">this article actually explains it very well.</a>\n",
    "\n",
    "\n",
    "Essentially:\n",
    "\n",
    "`[Apply filter]` > `[Pooling]` > `[Normalize/Activation Function]` > `[Feed into Fully Connected NN]` > `[Update Weights (Back Propagation)]`\n",
    "\n",
    "\n",
    "BUT! Each of the steps above is just a type of layer. They can, in fact, be in any order, and in any orientation."
   ]
  },
  {
   "cell_type": "markdown",
   "metadata": {},
   "source": [
    "### CNN With PyTorch"
   ]
  },
  {
   "cell_type": "code",
   "execution_count": 1,
   "metadata": {},
   "outputs": [
    {
     "data": {
      "text/plain": [
       "True"
      ]
     },
     "execution_count": 1,
     "metadata": {},
     "output_type": "execute_result"
    }
   ],
   "source": [
    "import torch\n",
    "torch.cuda.is_available()"
   ]
  },
  {
   "cell_type": "code",
   "execution_count": 2,
   "metadata": {},
   "outputs": [],
   "source": [
    "from torch.autograd import Variable\n",
    "import torch.nn as nn\n",
    "import torch.nn.functional as F"
   ]
  },
  {
   "cell_type": "code",
   "execution_count": 62,
   "metadata": {},
   "outputs": [],
   "source": [
    "#help(nn.Conv2d)"
   ]
  },
  {
   "cell_type": "code",
   "execution_count": 2,
   "metadata": {},
   "outputs": [],
   "source": [
    "from torch.autograd import Variable\n",
    "import torch.nn as nn\n",
    "import torch.nn.functional as F\n",
    "\n",
    "# Neural net\n",
    "class Net(nn.Module):\n",
    "    \"\"\"\n",
    "    Neural net\n",
    "    \"\"\"\n",
    "    \n",
    "    # Constructor\n",
    "    def __init__(self):\n",
    "        \"\"\"\n",
    "        Constructor\n",
    "        \"\"\"\n",
    "        super(Net, self).__init__()\n",
    "        self.conv_layer1 = nn.Conv2d(1, 6, 5)\n",
    "        self.pool = nn.MaxPool2d(2, 2)\n",
    "        self.conv_layer2 = nn.Conv2d(6, 16, 5)\n",
    "        self.linear_layer1 = nn.Linear(16 * 4 * 4, 120)\n",
    "        self.linear_layer2 = nn.Linear(120, 10)\n",
    "    # end __init__\n",
    "    \n",
    "    \n",
    "    # Forward pass\n",
    "    def forward(self, x):\n",
    "        \"\"\"\n",
    "        Forward pass\n",
    "        :param x:\n",
    "        :return:\n",
    "        \"\"\"\n",
    "        x = self.conv_layer1(x)\n",
    "        x = F.relu(x)\n",
    "        x = self.pool(x)\n",
    "        x = self.conv_layer2(x)\n",
    "        x = F.relu(x)\n",
    "        x = self.pool(x)\n",
    "        x = x.view(-1, 16 * 4 * 4) # reshape tensor to have (16*4*4) columns and (-1) any number of rows\n",
    "        x = F.relu(self.linear_layer1(x))\n",
    "        x = F.relu(self.linear_layer2(x))\n",
    "        return x\n",
    "    # end forward\n",
    "    \n",
    "    \n",
    "    "
   ]
  },
  {
   "cell_type": "code",
   "execution_count": null,
   "metadata": {},
   "outputs": [],
   "source": []
  },
  {
   "cell_type": "code",
   "execution_count": 61,
   "metadata": {},
   "outputs": [
    {
     "name": "stdout",
     "output_type": "stream",
     "text": [
      "Epoch 0, average loss 0.10710176825523376, train accuracy 96, test accuracy 98\n",
      "Epoch 1, average loss 0.045862600207328796, train accuracy 98, test accuracy 98\n",
      "Epoch 2, average loss 0.038945842534303665, train accuracy 98, test accuracy 98\n",
      "Epoch 3, average loss 0.03852394223213196, train accuracy 98, test accuracy 98\n",
      "Epoch 4, average loss 0.03546438366174698, train accuracy 99, test accuracy 98\n"
     ]
    },
    {
     "data": {
      "image/png": "[encoded data removed]",
      "text/plain": [
       "<Figure size 432x288 with 1 Axes>"
      ]
     },
     "metadata": {},
     "output_type": "display_data"
    }
   ],
   "source": [
    "# Imports\n",
    "import torch\n",
    "import torchvision\n",
    "import torchvision.transforms as transforms\n",
    "import matplotlib.pyplot as plt\n",
    "import numpy as np\n",
    "import torch.nn as nn\n",
    "import torch.optim as optim\n",
    "from torch.autograd import Variable\n",
    "\n",
    "# Random seed\n",
    "torch.manual_seed(1)\n",
    "np.random.seed(1)\n",
    "# Batch size\n",
    "batch_size = 5\n",
    "# Transformation to tensor and normalization\n",
    "transform = transforms.Compose(\n",
    "    [\n",
    "        transforms.ToTensor(),\n",
    "        transforms.Normalize((0.5, 0.5, 0.5), (0.5, 0.5, 0.5))\n",
    "    ]\n",
    ")\n",
    "# Download the training set\n",
    "trainset = torchvision.datasets.EMNIST(root='./data', split='digits', train=True, download=True, transform=transform)\n",
    "# Training set loader\n",
    "trainloader = torch.utils.data.DataLoader(trainset, batch_size=batch_size, shuffle=False)\n",
    "# Test set\n",
    "testset = torchvision.datasets.EMNIST(root='./data', split='digits', train=False, download=True, transform=transform)\n",
    "# Test set loader\n",
    "testloader = torch.utils.data.DataLoader(testset, batch_size=batch_size, shuffle=False)\n",
    "\n",
    "# Function to show images\n",
    "def imshow(img):\n",
    "    img = img / 2 + 0.5\n",
    "    npimg = img.numpy()\n",
    "    plt.imshow(np.transpose(npimg, (1, 2, 0)))\n",
    "    plt.show()\n",
    "# end imshow\n",
    "\n",
    "# Classes\n",
    "classes = ('Zero - 0', \n",
    "           'One - 1', \n",
    "           'Two - 2', \n",
    "           'Three - 3', \n",
    "           'Four - 4', \n",
    "           'Five - 5', \n",
    "           'Size - 6', \n",
    "           'Seven - 7', \n",
    "           'Eight - 8', \n",
    "           'Nine - 9')\n",
    "# Data set as iterator\n",
    "dataiter = iter(trainloader)\n",
    "#Get next batch\n",
    "images, labels = dataiter.next()\n",
    "# N batches\n",
    "n_batches = len(dataiter)\n",
    "# Our neural net, run it on CUDA GPU\n",
    "net = Net()\n",
    "net.cuda()\n",
    "# Objective function is cross-entropy\n",
    "criterion = nn.CrossEntropyLoss()\n",
    "# Learning rate\n",
    "learning_rate = 0.005\n",
    "# Stochastic gradient descent\n",
    "optimizer = optim.SGD(net.parameters(), lr=learning_rate, momentum=0.9)\n",
    "# N iterations\n",
    "n_iterations = 5\n",
    "# List of training and test accuracies\n",
    "train_accuracies = np.zeros(n_iterations)\n",
    "test_accuracies = np.zeros(n_iterations)\n",
    "\n",
    "# Training\n",
    "for epoch in range(n_iterations):\n",
    "    # Average loss during training\n",
    "    average_loss = 0.0\n",
    "    # Data to compute accuracy\n",
    "    total   = 0\n",
    "    success = 0\n",
    "\n",
    "    # Iterate over batches\n",
    "    for i, data in enumerate(trainloader, 0):\n",
    "        # Get the inputs and labels\n",
    "        inputs, labels = data\n",
    "        # To variable\n",
    "        inputs, labels = Variable(inputs.cuda()), Variable(labels.cuda())\n",
    "        # Put grad to zero\n",
    "        optimizer.zero_grad()\n",
    "        # Forward\n",
    "        outputs = net(inputs)\n",
    "        # Loss\n",
    "        loss = criterion(outputs, labels)\n",
    "        # Backward\n",
    "        loss.backward()\n",
    "        # Optimize\n",
    "        optimizer.step()\n",
    "        # Add to loss\n",
    "        average_loss += loss.data\n",
    "        # Take the max as predicted\n",
    "        _, predicted = torch.max(outputs.data, 1)\n",
    "        # Add to total\n",
    "        total += labels.size(0)\n",
    "        # Add correctly classified images\n",
    "        success += (predicted == labels.data).sum()\n",
    "    # end for\n",
    "    train_accuracy = 100.0 * success / total\n",
    "\n",
    "    # Test model on test set\n",
    "    success = 0\n",
    "    total = 0\n",
    "    for (inputs, labels) in testloader:\n",
    "        # To variable\n",
    "        inputs, labels = Variable(inputs.cuda()), Variable(labels.cuda())\n",
    "        # Neural net's outputs\n",
    "        outputs = net(inputs)\n",
    "        # Take the max as predicted\n",
    "        _, predicted = torch.max(outputs.data, 1)\n",
    "        # Add to total\n",
    "        total   += labels.size(0)\n",
    "        # Add correctly classified images\n",
    "        success += (predicted == labels.data).sum()\n",
    "    # end for\n",
    "\n",
    "    # print average loss and accuracies\n",
    "    print(u\"Epoch {}, average loss {}, train accuracy {}, test accuracy {}\".format(\n",
    "        epoch,\n",
    "        average_loss / n_batches,\n",
    "        train_accuracy,\n",
    "        100.0 * success / total\n",
    "    ))\n",
    "\n",
    "    # Save\n",
    "    train_accuracies[epoch] = train_accuracy\n",
    "    test_accuracies[epoch] = 100.0 * success / total\n",
    "# end for\n",
    "\n",
    "plt.plot(np.arange(1, n_iterations+1), train_accuracies)\n",
    "plt.plot(np.arange(1, n_iterations+1), test_accuracies)\n",
    "plt.show()"
   ]
  },
  {
   "cell_type": "code",
   "execution_count": 60,
   "metadata": {},
   "outputs": [
    {
     "data": {
      "text/plain": [
       "<matplotlib.image.AxesImage at 0x179065ff8d0>"
      ]
     },
     "execution_count": 60,
     "metadata": {},
     "output_type": "execute_result"
    },
    {
     "data": {
      "image/png": "[encoded data removed]",
      "text/plain": [
       "<Figure size 432x288 with 3 Axes>"
      ]
     },
     "metadata": {},
     "output_type": "display_data"
    }
   ],
   "source": [
    "%matplotlib inline\n",
    "fig, (ax0,ax1,ax2) = plt.subplots(1,3)\n",
    "\n",
    "ax0.imshow((iter(trainloader).next()[0][0][0]).numpy().T)\n",
    "ax1.imshow((iter(trainloader).next()[0][1][0]).numpy().T)\n",
    "ax2.imshow((iter(trainloader).next()[0][2][0]).numpy().T)"
   ]
  },
  {
   "cell_type": "code",
   "execution_count": null,
   "metadata": {},
   "outputs": [],
   "source": []
  }
 ],
 "metadata": {
  "kernelspec": {
   "display_name": "Python 3",
   "language": "python",
   "name": "python3"
  },
  "language_info": {
   "codemirror_mode": {
    "name": "ipython",
    "version": 3
   },
   "file_extension": ".py",
   "mimetype": "text/x-python",
   "name": "python",
   "nbconvert_exporter": "python",
   "pygments_lexer": "ipython3",
   "version": "3.6.6"
  },
  "toc": {
   "base_numbering": 1,
   "nav_menu": {},
   "number_sections": true,
   "sideBar": true,
   "skip_h1_title": false,
   "title_cell": "Table of Contents",
   "title_sidebar": "Contents",
   "toc_cell": false,
   "toc_position": {},
   "toc_section_display": true,
   "toc_window_display": false
  }
 },
 "nbformat": 4,
 "nbformat_minor": 2
}
